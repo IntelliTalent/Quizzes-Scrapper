{
  "cells": [
    {
      "cell_type": "code",
      "execution_count": 6,
      "metadata": {
        "colab": {
          "base_uri": "https://localhost:8080/"
        },
        "id": "N3B4rv60S_2d",
        "outputId": "3f0336de-74e6-4912-8700-12359de0957b"
      },
      "outputs": [
        {
          "name": "stdout",
          "output_type": "stream",
          "text": [
            "Requirement already satisfied: spacy in /usr/local/lib/python3.10/dist-packages (3.7.2)\n",
            "Requirement already satisfied: requests<3.0.0,>=2.13.0 in /usr/lib/python3/dist-packages (from spacy) (2.25.1)\n",
            "Requirement already satisfied: langcodes<4.0.0,>=3.2.0 in /usr/local/lib/python3.10/dist-packages (from spacy) (3.3.0)\n",
            "Requirement already satisfied: srsly<3.0.0,>=2.4.3 in /usr/local/lib/python3.10/dist-packages (from spacy) (2.4.8)\n",
            "Requirement already satisfied: catalogue<2.1.0,>=2.0.6 in /usr/local/lib/python3.10/dist-packages (from spacy) (2.0.10)\n",
            "Requirement already satisfied: spacy-legacy<3.1.0,>=3.0.11 in /usr/local/lib/python3.10/dist-packages (from spacy) (3.0.12)\n",
            "Requirement already satisfied: typer<0.10.0,>=0.3.0 in /usr/local/lib/python3.10/dist-packages (from spacy) (0.9.0)\n",
            "Requirement already satisfied: smart-open<7.0.0,>=5.2.1 in /usr/local/lib/python3.10/dist-packages (from spacy) (6.4.0)\n",
            "Requirement already satisfied: jinja2 in /usr/lib/python3/dist-packages (from spacy) (3.0.3)\n",
            "Requirement already satisfied: wasabi<1.2.0,>=0.9.1 in /usr/local/lib/python3.10/dist-packages (from spacy) (1.1.2)\n",
            "Requirement already satisfied: numpy>=1.19.0 in /usr/local/lib/python3.10/dist-packages (from spacy) (1.26.4)\n",
            "Requirement already satisfied: tqdm<5.0.0,>=4.38.0 in /usr/local/lib/python3.10/dist-packages (from spacy) (4.66.1)\n",
            "Requirement already satisfied: thinc<8.3.0,>=8.1.8 in /usr/local/lib/python3.10/dist-packages (from spacy) (8.2.3)\n",
            "Requirement already satisfied: setuptools in /usr/lib/python3/dist-packages (from spacy) (59.6.0)\n",
            "Requirement already satisfied: spacy-loggers<2.0.0,>=1.0.0 in /usr/local/lib/python3.10/dist-packages (from spacy) (1.0.5)\n",
            "Requirement already satisfied: weasel<0.4.0,>=0.1.0 in /usr/local/lib/python3.10/dist-packages (from spacy) (0.3.4)\n",
            "Requirement already satisfied: packaging>=20.0 in /root/.local/lib/python3.10/site-packages (from spacy) (23.2)\n",
            "Requirement already satisfied: cymem<2.1.0,>=2.0.2 in /usr/local/lib/python3.10/dist-packages (from spacy) (2.0.8)\n",
            "Requirement already satisfied: murmurhash<1.1.0,>=0.28.0 in /usr/local/lib/python3.10/dist-packages (from spacy) (1.0.10)\n",
            "Requirement already satisfied: preshed<3.1.0,>=3.0.2 in /usr/local/lib/python3.10/dist-packages (from spacy) (3.0.9)\n",
            "Requirement already satisfied: pydantic!=1.8,!=1.8.1,<3.0.0,>=1.7.4 in /usr/local/lib/python3.10/dist-packages (from spacy) (2.6.1)\n",
            "Requirement already satisfied: pydantic-core==2.16.2 in /usr/local/lib/python3.10/dist-packages (from pydantic!=1.8,!=1.8.1,<3.0.0,>=1.7.4->spacy) (2.16.2)\n",
            "Requirement already satisfied: annotated-types>=0.4.0 in /usr/local/lib/python3.10/dist-packages (from pydantic!=1.8,!=1.8.1,<3.0.0,>=1.7.4->spacy) (0.6.0)\n",
            "Requirement already satisfied: typing-extensions>=4.6.1 in /usr/local/lib/python3.10/dist-packages (from pydantic!=1.8,!=1.8.1,<3.0.0,>=1.7.4->spacy) (4.9.0)\n",
            "Requirement already satisfied: confection<1.0.0,>=0.0.1 in /usr/local/lib/python3.10/dist-packages (from thinc<8.3.0,>=8.1.8->spacy) (0.1.4)\n",
            "Requirement already satisfied: blis<0.8.0,>=0.7.8 in /usr/local/lib/python3.10/dist-packages (from thinc<8.3.0,>=8.1.8->spacy) (0.7.11)\n",
            "Requirement already satisfied: click<9.0.0,>=7.1.1 in /usr/lib/python3/dist-packages (from typer<0.10.0,>=0.3.0->spacy) (8.0.3)\n",
            "Requirement already satisfied: cloudpathlib<0.17.0,>=0.7.0 in /usr/local/lib/python3.10/dist-packages (from weasel<0.4.0,>=0.1.0->spacy) (0.16.0)\n",
            "\u001b[33mWARNING: Running pip as the 'root' user can result in broken permissions and conflicting behaviour with the system package manager. It is recommended to use a virtual environment instead: https://pip.pypa.io/warnings/venv\u001b[0m\u001b[33m\n",
            "\u001b[0m"
          ]
        }
      ],
      "source": [
        "# !pip3 install torch torchvision torchaudio --index-url https://download.pytorch.org/whl/cu118\n",
        "# !pip install transformers torch\n",
        "!pip install spacy"
      ]
    },
    {
      "cell_type": "code",
      "execution_count": 7,
      "metadata": {
        "colab": {
          "base_uri": "https://localhost:8080/"
        },
        "id": "J9QwrXHWT-HN",
        "outputId": "cf07e95b-dbb7-42f5-ed95-45b97ac6f8f1"
      },
      "outputs": [],
      "source": [
        "# !git clone https://github.com/Waer1/quizes-scrapper/"
      ]
    },
    {
      "cell_type": "code",
      "execution_count": 1,
      "metadata": {
        "colab": {
          "base_uri": "https://localhost:8080/"
        },
        "id": "vtQAl46om_qa",
        "outputId": "7a9c8350-68f6-4e74-ddb4-1253d4991792"
      },
      "outputs": [
        {
          "name": "stderr",
          "output_type": "stream",
          "text": [
            "/tmp/ipykernel_19670/2921292934.py:2: DeprecationWarning: \n",
            "Pyarrow will become a required dependency of pandas in the next major release of pandas (pandas 3.0),\n",
            "(to allow more performant data types, such as the Arrow string type, and better interoperability with other libraries)\n",
            "but was not found to be installed on your system.\n",
            "If this would cause problems for you,\n",
            "please provide us feedback at https://github.com/pandas-dev/pandas/issues/54466\n",
            "        \n",
            "  import pandas as pd\n"
          ]
        }
      ],
      "source": [
        "import spacy\n",
        "import pandas as pd\n",
        "import os\n",
        "from concurrent.futures import ThreadPoolExecutor\n",
        "# !python3 -m spacy download en\n",
        "# !python3 -m spacy download en_core_web_lg"
      ]
    },
    {
      "cell_type": "code",
      "execution_count": 2,
      "metadata": {
        "colab": {
          "background_save": true
        },
        "id": "VkVkX47Im_u-"
      },
      "outputs": [],
      "source": [
        "# num_cores = os.cpu_count()\n",
        "# print(f\"Number of available CPU cores: {num_cores}\")"
      ]
    },
    {
      "cell_type": "code",
      "execution_count": null,
      "metadata": {
        "colab": {
          "background_save": true
        },
        "id": "AkUGOwq1m_yc"
      },
      "outputs": [],
      "source": []
    },
    {
      "cell_type": "code",
      "execution_count": 18,
      "metadata": {
        "id": "IRU4-WU7jwj7"
      },
      "outputs": [],
      "source": [
        "skills_context_directory = './raw-data/'\n",
        "\n",
        "skills_dataset = skills_context_directory +  'skills.csv'\n",
        "context_dataset = skills_context_directory + 'contexts.csv'\n",
        "\n",
        "unique_skills_dataset = 'unique_skills.csv'\n",
        "unique_contexts_dataset = 'unique_context.csv'\n",
        "\n"
      ]
    },
    {
      "cell_type": "code",
      "execution_count": 14,
      "metadata": {
        "id": "4G9B5FkFjwrh",
        "notebookRunGroups": {
          "groupValue": "12"
        }
      },
      "outputs": [
        {
          "name": "stdout",
          "output_type": "stream",
          "text": [
            "Total Unique Skills: 26404\n"
          ]
        }
      ],
      "source": [
        "\n",
        "# Check if the unique_skills.csv file exists\n",
        "if os.path.exists(unique_skills_dataset):\n",
        "    # Load the existing unique skills dataset\n",
        "    unique_skills_df = pd.read_csv(unique_skills_dataset)\n",
        "    unique_skills_set = set(unique_skills_df['Skill'])\n",
        "else:\n",
        "    # Read the skills dataset\n",
        "    df = pd.read_csv(skills_dataset)\n",
        "\n",
        "    # Initialize an empty set to store unique skills\n",
        "    unique_skills_set = set()\n",
        "\n",
        "    # Load the pre-trained spaCy model\n",
        "    nlp = spacy.load('en_core_web_lg')\n",
        "\n",
        "    # Iterate over each row in the skills dataset\n",
        "    for skills_str in df['skills'].unique():\n",
        "        if pd.isna(skills_str):\n",
        "            continue\n",
        "\n",
        "        # Split skills based on commas and convert to lowercase\n",
        "        skills_list = [skill.strip().lower() for skill in skills_str.split(',')]\n",
        "\n",
        "        # Add each unique skill to the set\n",
        "        for skill in skills_list:\n",
        "            if skill not in unique_skills_set:\n",
        "                unique_skills_set.add(skill)\n",
        "\n",
        "    # Convert the set of unique skills to a DataFrame\n",
        "    unique_skills_df = pd.DataFrame({'Skill': list(unique_skills_set)})\n",
        "\n",
        "    # Save the unique skills DataFrame to a CSV file\n",
        "    unique_skills_df.to_csv(unique_skills_dataset, index=False)\n",
        "\n",
        "# Print the total number of unique skills\n",
        "print(\"Total Unique Skills:\", len(unique_skills_set))"
      ]
    },
    {
      "cell_type": "code",
      "execution_count": null,
      "metadata": {
        "colab": {
          "base_uri": "https://localhost:8080/"
        },
        "id": "8CH4uevrpXjU",
        "outputId": "402fe1e4-8f24-4588-db7e-5cd64143fdf9"
      },
      "outputs": [
        {
          "name": "stdout",
          "output_type": "stream",
          "text": [
            "Total Unique Skills: 26405\n"
          ]
        }
      ],
      "source": []
    },
    {
      "cell_type": "code",
      "execution_count": 20,
      "metadata": {
        "colab": {
          "base_uri": "https://localhost:8080/"
        },
        "id": "0S4YsuWdpX8T",
        "outputId": "3c8abcf0-313b-4269-fd89-5f4e0507d56d"
      },
      "outputs": [
        {
          "name": "stdout",
          "output_type": "stream",
          "text": [
            "Total Unique Contexts: 1261\n"
          ]
        }
      ],
      "source": [
        "\n",
        "# Check if the unique_contexts.csv file exists\n",
        "if os.path.exists(unique_contexts_dataset):\n",
        "    # Load the existing unique context dataset\n",
        "    unique_contexts_df = pd.read_csv(unique_contexts_dataset)\n",
        "    unique_contexts_set = set(unique_contexts_df['Context'])\n",
        "else:\n",
        "    # Read the context dataset\n",
        "    contexts_df = pd.read_csv(context_dataset)\n",
        "\n",
        "    # Initialize an empty set to store unique contexts\n",
        "    unique_contexts_set = set()\n",
        "\n",
        "    # Iterate over each row in the context dataset\n",
        "    for context_str in contexts_df['Context']:\n",
        "        if pd.isna(context_str):  # Skip nan values\n",
        "            continue\n",
        "\n",
        "        # Strip whitespaces and convert to lowercase\n",
        "        context = context_str.strip().lower()\n",
        "\n",
        "        # Add each unique context to the set\n",
        "        if context not in unique_contexts_set:\n",
        "            unique_contexts_set.add(context)\n",
        "\n",
        "    # Convert the set of unique contexts to a DataFrame\n",
        "    unique_contexts_df = pd.DataFrame({'Context': list(unique_contexts_set)})\n",
        "\n",
        "    # Save the unique context DataFrame to a CSV file\n",
        "    unique_contexts_df.to_csv(unique_contexts_dataset, index=False)\n",
        "\n",
        "# Print the total number of unique contexts\n",
        "print(\"Total Unique Contexts:\", len(unique_contexts_set))\n"
      ]
    },
    {
      "cell_type": "code",
      "execution_count": 21,
      "metadata": {
        "id": "ngYZjEevwFxO"
      },
      "outputs": [],
      "source": [
        "context_skills_mapping = {}"
      ]
    },
    {
      "cell_type": "code",
      "execution_count": 23,
      "metadata": {
        "colab": {
          "base_uri": "https://localhost:8080/"
        },
        "id": "r4zvoc8ijwtn",
        "outputId": "89560c5f-e0dd-44ef-89e8-425abfd5c869"
      },
      "outputs": [],
      "source": [
        "import concurrent.futures\n",
        "import json\n",
        "\n",
        "# Load pre-trained spaCy model with word embeddings\n",
        "nlp = spacy.load('en_core_web_lg')\n",
        "\n",
        "# Function to process each context row and find related skills\n",
        "def process_context(context_row):\n",
        "    context_name = context_row.Context\n",
        "    context_text = context_row.Context.lower()  # Adjust the column name to match your DataFrame\n",
        "\n",
        "    context_skills = []\n",
        "    num_matched_skills = 0  # Counter for matched skills in each iteration\n",
        "\n",
        "    # Tokenize and embed context text\n",
        "    context_doc = nlp(context_text)\n",
        "\n",
        "    for skill in unique_skills_set:\n",
        "        # Tokenize and embed skill text\n",
        "        skill_doc = nlp(skill.lower())  # Convert to lowercase for consistency\n",
        "\n",
        "        # Calculate similarity between context and skill embeddings\n",
        "        similarity = context_doc.similarity(skill_doc)\n",
        "\n",
        "        # Define a threshold for similarity\n",
        "        threshold = 0.7\n",
        "\n",
        "        # If similarity is above the threshold, consider the skill related to the context\n",
        "        if similarity > threshold:\n",
        "            context_skills.append(skill)\n",
        "            num_matched_skills += 1\n",
        "\n",
        "    return context_name, context_skills, num_matched_skills\n",
        "\n",
        "# Create a ThreadPoolExecutor with 5 threads\n",
        "with concurrent.futures.ThreadPoolExecutor(max_workers=5) as executor:\n",
        "    # Submit each context row to the executor for processing\n",
        "    future_to_row = {executor.submit(process_context, context_row): context_row for context_row in unique_contexts_df.itertuples()}\n",
        "\n",
        "    # Iterate over completed futures\n",
        "    for future in concurrent.futures.as_completed(future_to_row):\n",
        "        context_name, context_skills, num_matched_skills = future.result()\n",
        "        context_skills_mapping[context_name] = context_skills\n",
        "        print(f\"Context: {context_name}, Matched Skills: {num_matched_skills}\")\n",
        "\n",
        "        # Write to JSON file after each step\n",
        "        with open(\"context_skills_mapping.json\", \"w\") as f:\n",
        "            json.dump(context_skills_mapping, f)\n",
        "\n",
        "# Example of how to access skills related to a specific context\n",
        "context_name = \"context1\"\n",
        "related_skills = context_skills_mapping.get(context_name, [])\n",
        "print(f\"Skills related to {context_name}: {related_skills}\")\n"
      ]
    },
    {
      "cell_type": "code",
      "execution_count": null,
      "metadata": {
        "id": "GKiJiXK8jwwS"
      },
      "outputs": [],
      "source": [
        "# Print the first few context-skill relationships for verification\n",
        "num_contexts_to_print = 5  # Adjust as needed\n",
        "\n",
        "for context_name, related_skills in list(context_skills_mapping.items())[:num_contexts_to_print]:\n",
        "    print(f\"Context: {context_name}\")\n",
        "    print(f\"Related Skills: {related_skills}\")\n",
        "    print(\"------\")\n"
      ]
    },
    {
      "cell_type": "code",
      "execution_count": null,
      "metadata": {
        "colab": {
          "background_save": true
        },
        "id": "N7ad0Gc1jwyb"
      },
      "outputs": [],
      "source": []
    },
    {
      "cell_type": "code",
      "execution_count": null,
      "metadata": {
        "colab": {
          "background_save": true
        },
        "id": "W1xTl47Kjw-F"
      },
      "outputs": [],
      "source": []
    },
    {
      "cell_type": "code",
      "execution_count": null,
      "metadata": {
        "colab": {
          "background_save": true
        },
        "id": "dp-MhkoRjxB4"
      },
      "outputs": [],
      "source": []
    },
    {
      "cell_type": "code",
      "execution_count": null,
      "metadata": {
        "colab": {
          "background_save": true
        },
        "id": "e_1C9GwTjxFG"
      },
      "outputs": [],
      "source": []
    },
    {
      "cell_type": "code",
      "execution_count": null,
      "metadata": {
        "colab": {
          "background_save": true
        },
        "id": "3o_Y9ExAjxId"
      },
      "outputs": [],
      "source": []
    },
    {
      "cell_type": "code",
      "execution_count": null,
      "metadata": {
        "colab": {
          "background_save": true
        },
        "id": "BOkQX2FRjxLO"
      },
      "outputs": [],
      "source": []
    },
    {
      "cell_type": "code",
      "execution_count": null,
      "metadata": {
        "colab": {
          "background_save": true
        },
        "id": "j4h_Rtp6jxOx"
      },
      "outputs": [],
      "source": []
    },
    {
      "cell_type": "code",
      "execution_count": null,
      "metadata": {
        "colab": {
          "background_save": true
        },
        "id": "--CexrPUjxR0"
      },
      "outputs": [],
      "source": []
    },
    {
      "cell_type": "code",
      "execution_count": null,
      "metadata": {
        "colab": {
          "background_save": true
        },
        "id": "w3qEQ0hVjxU0"
      },
      "outputs": [],
      "source": []
    },
    {
      "cell_type": "code",
      "execution_count": null,
      "metadata": {
        "colab": {
          "background_save": true
        },
        "id": "2rFoS2iPjxXl"
      },
      "outputs": [],
      "source": []
    }
  ],
  "metadata": {
    "colab": {
      "provenance": []
    },
    "kernelspec": {
      "display_name": "Python 3",
      "name": "python3"
    },
    "language_info": {
      "codemirror_mode": {
        "name": "ipython",
        "version": 3
      },
      "file_extension": ".py",
      "mimetype": "text/x-python",
      "name": "python",
      "nbconvert_exporter": "python",
      "pygments_lexer": "ipython3",
      "version": "3.10.12"
    }
  },
  "nbformat": 4,
  "nbformat_minor": 0
}
