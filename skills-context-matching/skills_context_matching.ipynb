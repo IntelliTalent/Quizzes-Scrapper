{
  "cells": [
    {
      "cell_type": "code",
      "execution_count": 1,
      "metadata": {
        "colab": {
          "base_uri": "https://localhost:8080/"
        },
        "id": "N3B4rv60S_2d",
        "outputId": "3f0336de-74e6-4912-8700-12359de0957b"
      },
      "outputs": [
        {
          "output_type": "stream",
          "name": "stdout",
          "text": [
            "Looking in indexes: https://download.pytorch.org/whl/cu118\n",
            "Requirement already satisfied: torch in /usr/local/lib/python3.10/dist-packages (2.1.0+cu121)\n",
            "Requirement already satisfied: torchvision in /usr/local/lib/python3.10/dist-packages (0.16.0+cu121)\n",
            "Requirement already satisfied: torchaudio in /usr/local/lib/python3.10/dist-packages (2.1.0+cu121)\n",
            "Requirement already satisfied: filelock in /usr/local/lib/python3.10/dist-packages (from torch) (3.13.1)\n",
            "Requirement already satisfied: typing-extensions in /usr/local/lib/python3.10/dist-packages (from torch) (4.5.0)\n",
            "Requirement already satisfied: sympy in /usr/local/lib/python3.10/dist-packages (from torch) (1.12)\n",
            "Requirement already satisfied: networkx in /usr/local/lib/python3.10/dist-packages (from torch) (3.2.1)\n",
            "Requirement already satisfied: jinja2 in /usr/local/lib/python3.10/dist-packages (from torch) (3.1.3)\n",
            "Requirement already satisfied: fsspec in /usr/local/lib/python3.10/dist-packages (from torch) (2023.6.0)\n",
            "Requirement already satisfied: triton==2.1.0 in /usr/local/lib/python3.10/dist-packages (from torch) (2.1.0)\n",
            "Requirement already satisfied: numpy in /usr/local/lib/python3.10/dist-packages (from torchvision) (1.23.5)\n",
            "Requirement already satisfied: requests in /usr/local/lib/python3.10/dist-packages (from torchvision) (2.31.0)\n",
            "Requirement already satisfied: pillow!=8.3.*,>=5.3.0 in /usr/local/lib/python3.10/dist-packages (from torchvision) (9.4.0)\n",
            "Requirement already satisfied: MarkupSafe>=2.0 in /usr/local/lib/python3.10/dist-packages (from jinja2->torch) (2.1.4)\n",
            "Requirement already satisfied: charset-normalizer<4,>=2 in /usr/local/lib/python3.10/dist-packages (from requests->torchvision) (3.3.2)\n",
            "Requirement already satisfied: idna<4,>=2.5 in /usr/local/lib/python3.10/dist-packages (from requests->torchvision) (3.6)\n",
            "Requirement already satisfied: urllib3<3,>=1.21.1 in /usr/local/lib/python3.10/dist-packages (from requests->torchvision) (2.0.7)\n",
            "Requirement already satisfied: certifi>=2017.4.17 in /usr/local/lib/python3.10/dist-packages (from requests->torchvision) (2023.11.17)\n",
            "Requirement already satisfied: mpmath>=0.19 in /usr/local/lib/python3.10/dist-packages (from sympy->torch) (1.3.0)\n",
            "Requirement already satisfied: transformers in /usr/local/lib/python3.10/dist-packages (4.35.2)\n",
            "Requirement already satisfied: torch in /usr/local/lib/python3.10/dist-packages (2.1.0+cu121)\n",
            "Requirement already satisfied: filelock in /usr/local/lib/python3.10/dist-packages (from transformers) (3.13.1)\n",
            "Requirement already satisfied: huggingface-hub<1.0,>=0.16.4 in /usr/local/lib/python3.10/dist-packages (from transformers) (0.20.3)\n",
            "Requirement already satisfied: numpy>=1.17 in /usr/local/lib/python3.10/dist-packages (from transformers) (1.23.5)\n",
            "Requirement already satisfied: packaging>=20.0 in /usr/local/lib/python3.10/dist-packages (from transformers) (23.2)\n",
            "Requirement already satisfied: pyyaml>=5.1 in /usr/local/lib/python3.10/dist-packages (from transformers) (6.0.1)\n",
            "Requirement already satisfied: regex!=2019.12.17 in /usr/local/lib/python3.10/dist-packages (from transformers) (2023.6.3)\n",
            "Requirement already satisfied: requests in /usr/local/lib/python3.10/dist-packages (from transformers) (2.31.0)\n",
            "Requirement already satisfied: tokenizers<0.19,>=0.14 in /usr/local/lib/python3.10/dist-packages (from transformers) (0.15.1)\n",
            "Requirement already satisfied: safetensors>=0.3.1 in /usr/local/lib/python3.10/dist-packages (from transformers) (0.4.2)\n",
            "Requirement already satisfied: tqdm>=4.27 in /usr/local/lib/python3.10/dist-packages (from transformers) (4.66.1)\n",
            "Requirement already satisfied: typing-extensions in /usr/local/lib/python3.10/dist-packages (from torch) (4.5.0)\n",
            "Requirement already satisfied: sympy in /usr/local/lib/python3.10/dist-packages (from torch) (1.12)\n",
            "Requirement already satisfied: networkx in /usr/local/lib/python3.10/dist-packages (from torch) (3.2.1)\n",
            "Requirement already satisfied: jinja2 in /usr/local/lib/python3.10/dist-packages (from torch) (3.1.3)\n",
            "Requirement already satisfied: fsspec in /usr/local/lib/python3.10/dist-packages (from torch) (2023.6.0)\n",
            "Requirement already satisfied: triton==2.1.0 in /usr/local/lib/python3.10/dist-packages (from torch) (2.1.0)\n",
            "Requirement already satisfied: MarkupSafe>=2.0 in /usr/local/lib/python3.10/dist-packages (from jinja2->torch) (2.1.4)\n",
            "Requirement already satisfied: charset-normalizer<4,>=2 in /usr/local/lib/python3.10/dist-packages (from requests->transformers) (3.3.2)\n",
            "Requirement already satisfied: idna<4,>=2.5 in /usr/local/lib/python3.10/dist-packages (from requests->transformers) (3.6)\n",
            "Requirement already satisfied: urllib3<3,>=1.21.1 in /usr/local/lib/python3.10/dist-packages (from requests->transformers) (2.0.7)\n",
            "Requirement already satisfied: certifi>=2017.4.17 in /usr/local/lib/python3.10/dist-packages (from requests->transformers) (2023.11.17)\n",
            "Requirement already satisfied: mpmath>=0.19 in /usr/local/lib/python3.10/dist-packages (from sympy->torch) (1.3.0)\n",
            "Requirement already satisfied: spacy in /usr/local/lib/python3.10/dist-packages (3.6.1)\n",
            "Requirement already satisfied: spacy-legacy<3.1.0,>=3.0.11 in /usr/local/lib/python3.10/dist-packages (from spacy) (3.0.12)\n",
            "Requirement already satisfied: spacy-loggers<2.0.0,>=1.0.0 in /usr/local/lib/python3.10/dist-packages (from spacy) (1.0.5)\n",
            "Requirement already satisfied: murmurhash<1.1.0,>=0.28.0 in /usr/local/lib/python3.10/dist-packages (from spacy) (1.0.10)\n",
            "Requirement already satisfied: cymem<2.1.0,>=2.0.2 in /usr/local/lib/python3.10/dist-packages (from spacy) (2.0.8)\n",
            "Requirement already satisfied: preshed<3.1.0,>=3.0.2 in /usr/local/lib/python3.10/dist-packages (from spacy) (3.0.9)\n",
            "Requirement already satisfied: thinc<8.2.0,>=8.1.8 in /usr/local/lib/python3.10/dist-packages (from spacy) (8.1.12)\n",
            "Requirement already satisfied: wasabi<1.2.0,>=0.9.1 in /usr/local/lib/python3.10/dist-packages (from spacy) (1.1.2)\n",
            "Requirement already satisfied: srsly<3.0.0,>=2.4.3 in /usr/local/lib/python3.10/dist-packages (from spacy) (2.4.8)\n",
            "Requirement already satisfied: catalogue<2.1.0,>=2.0.6 in /usr/local/lib/python3.10/dist-packages (from spacy) (2.0.10)\n",
            "Requirement already satisfied: typer<0.10.0,>=0.3.0 in /usr/local/lib/python3.10/dist-packages (from spacy) (0.9.0)\n",
            "Requirement already satisfied: pathy>=0.10.0 in /usr/local/lib/python3.10/dist-packages (from spacy) (0.11.0)\n",
            "Requirement already satisfied: smart-open<7.0.0,>=5.2.1 in /usr/local/lib/python3.10/dist-packages (from spacy) (6.4.0)\n",
            "Requirement already satisfied: tqdm<5.0.0,>=4.38.0 in /usr/local/lib/python3.10/dist-packages (from spacy) (4.66.1)\n",
            "Requirement already satisfied: numpy>=1.15.0 in /usr/local/lib/python3.10/dist-packages (from spacy) (1.23.5)\n",
            "Requirement already satisfied: requests<3.0.0,>=2.13.0 in /usr/local/lib/python3.10/dist-packages (from spacy) (2.31.0)\n",
            "Requirement already satisfied: pydantic!=1.8,!=1.8.1,<3.0.0,>=1.7.4 in /usr/local/lib/python3.10/dist-packages (from spacy) (1.10.14)\n",
            "Requirement already satisfied: jinja2 in /usr/local/lib/python3.10/dist-packages (from spacy) (3.1.3)\n",
            "Requirement already satisfied: setuptools in /usr/local/lib/python3.10/dist-packages (from spacy) (67.7.2)\n",
            "Requirement already satisfied: packaging>=20.0 in /usr/local/lib/python3.10/dist-packages (from spacy) (23.2)\n",
            "Requirement already satisfied: langcodes<4.0.0,>=3.2.0 in /usr/local/lib/python3.10/dist-packages (from spacy) (3.3.0)\n",
            "Requirement already satisfied: pathlib-abc==0.1.1 in /usr/local/lib/python3.10/dist-packages (from pathy>=0.10.0->spacy) (0.1.1)\n",
            "Requirement already satisfied: typing-extensions>=4.2.0 in /usr/local/lib/python3.10/dist-packages (from pydantic!=1.8,!=1.8.1,<3.0.0,>=1.7.4->spacy) (4.5.0)\n",
            "Requirement already satisfied: charset-normalizer<4,>=2 in /usr/local/lib/python3.10/dist-packages (from requests<3.0.0,>=2.13.0->spacy) (3.3.2)\n",
            "Requirement already satisfied: idna<4,>=2.5 in /usr/local/lib/python3.10/dist-packages (from requests<3.0.0,>=2.13.0->spacy) (3.6)\n",
            "Requirement already satisfied: urllib3<3,>=1.21.1 in /usr/local/lib/python3.10/dist-packages (from requests<3.0.0,>=2.13.0->spacy) (2.0.7)\n",
            "Requirement already satisfied: certifi>=2017.4.17 in /usr/local/lib/python3.10/dist-packages (from requests<3.0.0,>=2.13.0->spacy) (2023.11.17)\n",
            "Requirement already satisfied: blis<0.8.0,>=0.7.8 in /usr/local/lib/python3.10/dist-packages (from thinc<8.2.0,>=8.1.8->spacy) (0.7.11)\n",
            "Requirement already satisfied: confection<1.0.0,>=0.0.1 in /usr/local/lib/python3.10/dist-packages (from thinc<8.2.0,>=8.1.8->spacy) (0.1.4)\n",
            "Requirement already satisfied: click<9.0.0,>=7.1.1 in /usr/local/lib/python3.10/dist-packages (from typer<0.10.0,>=0.3.0->spacy) (8.1.7)\n",
            "Requirement already satisfied: MarkupSafe>=2.0 in /usr/local/lib/python3.10/dist-packages (from jinja2->spacy) (2.1.4)\n"
          ]
        }
      ],
      "source": [
        "!pip3 install torch torchvision torchaudio --index-url https://download.pytorch.org/whl/cu118\n",
        "!pip install transformers torch\n",
        "!pip install spacy"
      ]
    },
    {
      "cell_type": "code",
      "execution_count": 2,
      "metadata": {
        "colab": {
          "base_uri": "https://localhost:8080/"
        },
        "id": "J9QwrXHWT-HN",
        "outputId": "cf07e95b-dbb7-42f5-ed95-45b97ac6f8f1"
      },
      "outputs": [
        {
          "output_type": "stream",
          "name": "stdout",
          "text": [
            "Cloning into 'quizes-scrapper'...\n",
            "remote: Enumerating objects: 1973, done.\u001b[K\n",
            "remote: Counting objects: 100% (11/11), done.\u001b[K\n",
            "remote: Compressing objects: 100% (10/10), done.\u001b[K\n",
            "remote: Total 1973 (delta 0), reused 9 (delta 0), pack-reused 1962\u001b[K\n",
            "Receiving objects: 100% (1973/1973), 60.71 MiB | 17.44 MiB/s, done.\n",
            "Resolving deltas: 100% (121/121), done.\n"
          ]
        }
      ],
      "source": [
        "!git clone https://github.com/Waer1/quizes-scrapper/"
      ]
    },
    {
      "cell_type": "code",
      "execution_count": 27,
      "metadata": {
        "colab": {
          "base_uri": "https://localhost:8080/"
        },
        "id": "vtQAl46om_qa",
        "outputId": "7a9c8350-68f6-4e74-ddb4-1253d4991792"
      },
      "outputs": [
        {
          "output_type": "stream",
          "name": "stdout",
          "text": [
            "2024-02-02 15:17:53.800872: E external/local_xla/xla/stream_executor/cuda/cuda_dnn.cc:9261] Unable to register cuDNN factory: Attempting to register factory for plugin cuDNN when one has already been registered\n",
            "2024-02-02 15:17:53.800949: E external/local_xla/xla/stream_executor/cuda/cuda_fft.cc:607] Unable to register cuFFT factory: Attempting to register factory for plugin cuFFT when one has already been registered\n",
            "2024-02-02 15:17:53.803710: E external/local_xla/xla/stream_executor/cuda/cuda_blas.cc:1515] Unable to register cuBLAS factory: Attempting to register factory for plugin cuBLAS when one has already been registered\n",
            "2024-02-02 15:17:55.350711: W tensorflow/compiler/tf2tensorrt/utils/py_utils.cc:38] TF-TRT Warning: Could not find TensorRT\n",
            "\u001b[38;5;3m⚠ As of spaCy v3.0, shortcuts like 'en' are deprecated. Please use the\n",
            "full pipeline package name 'en_core_web_sm' instead.\u001b[0m\n",
            "Collecting en-core-web-sm==3.6.0\n",
            "  Downloading https://github.com/explosion/spacy-models/releases/download/en_core_web_sm-3.6.0/en_core_web_sm-3.6.0-py3-none-any.whl (12.8 MB)\n",
            "\u001b[2K     \u001b[90m━━━━━━━━━━━━━━━━━━━━━━━━━━━━━━━━━━━━━━━━\u001b[0m \u001b[32m12.8/12.8 MB\u001b[0m \u001b[31m32.7 MB/s\u001b[0m eta \u001b[36m0:00:00\u001b[0m\n",
            "\u001b[?25hRequirement already satisfied: spacy<3.7.0,>=3.6.0 in /usr/local/lib/python3.10/dist-packages (from en-core-web-sm==3.6.0) (3.6.1)\n",
            "Requirement already satisfied: spacy-legacy<3.1.0,>=3.0.11 in /usr/local/lib/python3.10/dist-packages (from spacy<3.7.0,>=3.6.0->en-core-web-sm==3.6.0) (3.0.12)\n",
            "Requirement already satisfied: spacy-loggers<2.0.0,>=1.0.0 in /usr/local/lib/python3.10/dist-packages (from spacy<3.7.0,>=3.6.0->en-core-web-sm==3.6.0) (1.0.5)\n",
            "Requirement already satisfied: murmurhash<1.1.0,>=0.28.0 in /usr/local/lib/python3.10/dist-packages (from spacy<3.7.0,>=3.6.0->en-core-web-sm==3.6.0) (1.0.10)\n",
            "Requirement already satisfied: cymem<2.1.0,>=2.0.2 in /usr/local/lib/python3.10/dist-packages (from spacy<3.7.0,>=3.6.0->en-core-web-sm==3.6.0) (2.0.8)\n",
            "Requirement already satisfied: preshed<3.1.0,>=3.0.2 in /usr/local/lib/python3.10/dist-packages (from spacy<3.7.0,>=3.6.0->en-core-web-sm==3.6.0) (3.0.9)\n",
            "Requirement already satisfied: thinc<8.2.0,>=8.1.8 in /usr/local/lib/python3.10/dist-packages (from spacy<3.7.0,>=3.6.0->en-core-web-sm==3.6.0) (8.1.12)\n",
            "Requirement already satisfied: wasabi<1.2.0,>=0.9.1 in /usr/local/lib/python3.10/dist-packages (from spacy<3.7.0,>=3.6.0->en-core-web-sm==3.6.0) (1.1.2)\n",
            "Requirement already satisfied: srsly<3.0.0,>=2.4.3 in /usr/local/lib/python3.10/dist-packages (from spacy<3.7.0,>=3.6.0->en-core-web-sm==3.6.0) (2.4.8)\n",
            "Requirement already satisfied: catalogue<2.1.0,>=2.0.6 in /usr/local/lib/python3.10/dist-packages (from spacy<3.7.0,>=3.6.0->en-core-web-sm==3.6.0) (2.0.10)\n",
            "Requirement already satisfied: typer<0.10.0,>=0.3.0 in /usr/local/lib/python3.10/dist-packages (from spacy<3.7.0,>=3.6.0->en-core-web-sm==3.6.0) (0.9.0)\n",
            "Requirement already satisfied: pathy>=0.10.0 in /usr/local/lib/python3.10/dist-packages (from spacy<3.7.0,>=3.6.0->en-core-web-sm==3.6.0) (0.11.0)\n",
            "Requirement already satisfied: smart-open<7.0.0,>=5.2.1 in /usr/local/lib/python3.10/dist-packages (from spacy<3.7.0,>=3.6.0->en-core-web-sm==3.6.0) (6.4.0)\n",
            "Requirement already satisfied: tqdm<5.0.0,>=4.38.0 in /usr/local/lib/python3.10/dist-packages (from spacy<3.7.0,>=3.6.0->en-core-web-sm==3.6.0) (4.66.1)\n",
            "Requirement already satisfied: numpy>=1.15.0 in /usr/local/lib/python3.10/dist-packages (from spacy<3.7.0,>=3.6.0->en-core-web-sm==3.6.0) (1.23.5)\n",
            "Requirement already satisfied: requests<3.0.0,>=2.13.0 in /usr/local/lib/python3.10/dist-packages (from spacy<3.7.0,>=3.6.0->en-core-web-sm==3.6.0) (2.31.0)\n",
            "Requirement already satisfied: pydantic!=1.8,!=1.8.1,<3.0.0,>=1.7.4 in /usr/local/lib/python3.10/dist-packages (from spacy<3.7.0,>=3.6.0->en-core-web-sm==3.6.0) (1.10.14)\n",
            "Requirement already satisfied: jinja2 in /usr/local/lib/python3.10/dist-packages (from spacy<3.7.0,>=3.6.0->en-core-web-sm==3.6.0) (3.1.3)\n",
            "Requirement already satisfied: setuptools in /usr/local/lib/python3.10/dist-packages (from spacy<3.7.0,>=3.6.0->en-core-web-sm==3.6.0) (67.7.2)\n",
            "Requirement already satisfied: packaging>=20.0 in /usr/local/lib/python3.10/dist-packages (from spacy<3.7.0,>=3.6.0->en-core-web-sm==3.6.0) (23.2)\n",
            "Requirement already satisfied: langcodes<4.0.0,>=3.2.0 in /usr/local/lib/python3.10/dist-packages (from spacy<3.7.0,>=3.6.0->en-core-web-sm==3.6.0) (3.3.0)\n",
            "Requirement already satisfied: pathlib-abc==0.1.1 in /usr/local/lib/python3.10/dist-packages (from pathy>=0.10.0->spacy<3.7.0,>=3.6.0->en-core-web-sm==3.6.0) (0.1.1)\n",
            "Requirement already satisfied: typing-extensions>=4.2.0 in /usr/local/lib/python3.10/dist-packages (from pydantic!=1.8,!=1.8.1,<3.0.0,>=1.7.4->spacy<3.7.0,>=3.6.0->en-core-web-sm==3.6.0) (4.5.0)\n",
            "Requirement already satisfied: charset-normalizer<4,>=2 in /usr/local/lib/python3.10/dist-packages (from requests<3.0.0,>=2.13.0->spacy<3.7.0,>=3.6.0->en-core-web-sm==3.6.0) (3.3.2)\n",
            "Requirement already satisfied: idna<4,>=2.5 in /usr/local/lib/python3.10/dist-packages (from requests<3.0.0,>=2.13.0->spacy<3.7.0,>=3.6.0->en-core-web-sm==3.6.0) (3.6)\n",
            "Requirement already satisfied: urllib3<3,>=1.21.1 in /usr/local/lib/python3.10/dist-packages (from requests<3.0.0,>=2.13.0->spacy<3.7.0,>=3.6.0->en-core-web-sm==3.6.0) (2.0.7)\n",
            "Requirement already satisfied: certifi>=2017.4.17 in /usr/local/lib/python3.10/dist-packages (from requests<3.0.0,>=2.13.0->spacy<3.7.0,>=3.6.0->en-core-web-sm==3.6.0) (2023.11.17)\n",
            "Requirement already satisfied: blis<0.8.0,>=0.7.8 in /usr/local/lib/python3.10/dist-packages (from thinc<8.2.0,>=8.1.8->spacy<3.7.0,>=3.6.0->en-core-web-sm==3.6.0) (0.7.11)\n",
            "Requirement already satisfied: confection<1.0.0,>=0.0.1 in /usr/local/lib/python3.10/dist-packages (from thinc<8.2.0,>=8.1.8->spacy<3.7.0,>=3.6.0->en-core-web-sm==3.6.0) (0.1.4)\n",
            "Requirement already satisfied: click<9.0.0,>=7.1.1 in /usr/local/lib/python3.10/dist-packages (from typer<0.10.0,>=0.3.0->spacy<3.7.0,>=3.6.0->en-core-web-sm==3.6.0) (8.1.7)\n",
            "Requirement already satisfied: MarkupSafe>=2.0 in /usr/local/lib/python3.10/dist-packages (from jinja2->spacy<3.7.0,>=3.6.0->en-core-web-sm==3.6.0) (2.1.4)\n",
            "\u001b[38;5;2m✔ Download and installation successful\u001b[0m\n",
            "You can now load the package via spacy.load('en_core_web_sm')\n",
            "2024-02-02 15:18:11.682743: E external/local_xla/xla/stream_executor/cuda/cuda_dnn.cc:9261] Unable to register cuDNN factory: Attempting to register factory for plugin cuDNN when one has already been registered\n",
            "2024-02-02 15:18:11.682818: E external/local_xla/xla/stream_executor/cuda/cuda_fft.cc:607] Unable to register cuFFT factory: Attempting to register factory for plugin cuFFT when one has already been registered\n",
            "2024-02-02 15:18:11.684303: E external/local_xla/xla/stream_executor/cuda/cuda_blas.cc:1515] Unable to register cuBLAS factory: Attempting to register factory for plugin cuBLAS when one has already been registered\n",
            "2024-02-02 15:18:13.773084: W tensorflow/compiler/tf2tensorrt/utils/py_utils.cc:38] TF-TRT Warning: Could not find TensorRT\n",
            "Collecting en-core-web-lg==3.6.0\n",
            "  Downloading https://github.com/explosion/spacy-models/releases/download/en_core_web_lg-3.6.0/en_core_web_lg-3.6.0-py3-none-any.whl (587.7 MB)\n",
            "\u001b[2K     \u001b[90m━━━━━━━━━━━━━━━━━━━━━━━━━━━━━━━━━━━━━━━━\u001b[0m \u001b[32m587.7/587.7 MB\u001b[0m \u001b[31m2.0 MB/s\u001b[0m eta \u001b[36m0:00:00\u001b[0m\n",
            "\u001b[?25hRequirement already satisfied: spacy<3.7.0,>=3.6.0 in /usr/local/lib/python3.10/dist-packages (from en-core-web-lg==3.6.0) (3.6.1)\n",
            "Requirement already satisfied: spacy-legacy<3.1.0,>=3.0.11 in /usr/local/lib/python3.10/dist-packages (from spacy<3.7.0,>=3.6.0->en-core-web-lg==3.6.0) (3.0.12)\n",
            "Requirement already satisfied: spacy-loggers<2.0.0,>=1.0.0 in /usr/local/lib/python3.10/dist-packages (from spacy<3.7.0,>=3.6.0->en-core-web-lg==3.6.0) (1.0.5)\n",
            "Requirement already satisfied: murmurhash<1.1.0,>=0.28.0 in /usr/local/lib/python3.10/dist-packages (from spacy<3.7.0,>=3.6.0->en-core-web-lg==3.6.0) (1.0.10)\n",
            "Requirement already satisfied: cymem<2.1.0,>=2.0.2 in /usr/local/lib/python3.10/dist-packages (from spacy<3.7.0,>=3.6.0->en-core-web-lg==3.6.0) (2.0.8)\n",
            "Requirement already satisfied: preshed<3.1.0,>=3.0.2 in /usr/local/lib/python3.10/dist-packages (from spacy<3.7.0,>=3.6.0->en-core-web-lg==3.6.0) (3.0.9)\n",
            "Requirement already satisfied: thinc<8.2.0,>=8.1.8 in /usr/local/lib/python3.10/dist-packages (from spacy<3.7.0,>=3.6.0->en-core-web-lg==3.6.0) (8.1.12)\n",
            "Requirement already satisfied: wasabi<1.2.0,>=0.9.1 in /usr/local/lib/python3.10/dist-packages (from spacy<3.7.0,>=3.6.0->en-core-web-lg==3.6.0) (1.1.2)\n",
            "Requirement already satisfied: srsly<3.0.0,>=2.4.3 in /usr/local/lib/python3.10/dist-packages (from spacy<3.7.0,>=3.6.0->en-core-web-lg==3.6.0) (2.4.8)\n",
            "Requirement already satisfied: catalogue<2.1.0,>=2.0.6 in /usr/local/lib/python3.10/dist-packages (from spacy<3.7.0,>=3.6.0->en-core-web-lg==3.6.0) (2.0.10)\n",
            "Requirement already satisfied: typer<0.10.0,>=0.3.0 in /usr/local/lib/python3.10/dist-packages (from spacy<3.7.0,>=3.6.0->en-core-web-lg==3.6.0) (0.9.0)\n",
            "Requirement already satisfied: pathy>=0.10.0 in /usr/local/lib/python3.10/dist-packages (from spacy<3.7.0,>=3.6.0->en-core-web-lg==3.6.0) (0.11.0)\n",
            "Requirement already satisfied: smart-open<7.0.0,>=5.2.1 in /usr/local/lib/python3.10/dist-packages (from spacy<3.7.0,>=3.6.0->en-core-web-lg==3.6.0) (6.4.0)\n",
            "Requirement already satisfied: tqdm<5.0.0,>=4.38.0 in /usr/local/lib/python3.10/dist-packages (from spacy<3.7.0,>=3.6.0->en-core-web-lg==3.6.0) (4.66.1)\n",
            "Requirement already satisfied: numpy>=1.15.0 in /usr/local/lib/python3.10/dist-packages (from spacy<3.7.0,>=3.6.0->en-core-web-lg==3.6.0) (1.23.5)\n",
            "Requirement already satisfied: requests<3.0.0,>=2.13.0 in /usr/local/lib/python3.10/dist-packages (from spacy<3.7.0,>=3.6.0->en-core-web-lg==3.6.0) (2.31.0)\n",
            "Requirement already satisfied: pydantic!=1.8,!=1.8.1,<3.0.0,>=1.7.4 in /usr/local/lib/python3.10/dist-packages (from spacy<3.7.0,>=3.6.0->en-core-web-lg==3.6.0) (1.10.14)\n",
            "Requirement already satisfied: jinja2 in /usr/local/lib/python3.10/dist-packages (from spacy<3.7.0,>=3.6.0->en-core-web-lg==3.6.0) (3.1.3)\n",
            "Requirement already satisfied: setuptools in /usr/local/lib/python3.10/dist-packages (from spacy<3.7.0,>=3.6.0->en-core-web-lg==3.6.0) (67.7.2)\n",
            "Requirement already satisfied: packaging>=20.0 in /usr/local/lib/python3.10/dist-packages (from spacy<3.7.0,>=3.6.0->en-core-web-lg==3.6.0) (23.2)\n",
            "Requirement already satisfied: langcodes<4.0.0,>=3.2.0 in /usr/local/lib/python3.10/dist-packages (from spacy<3.7.0,>=3.6.0->en-core-web-lg==3.6.0) (3.3.0)\n",
            "Requirement already satisfied: pathlib-abc==0.1.1 in /usr/local/lib/python3.10/dist-packages (from pathy>=0.10.0->spacy<3.7.0,>=3.6.0->en-core-web-lg==3.6.0) (0.1.1)\n",
            "Requirement already satisfied: typing-extensions>=4.2.0 in /usr/local/lib/python3.10/dist-packages (from pydantic!=1.8,!=1.8.1,<3.0.0,>=1.7.4->spacy<3.7.0,>=3.6.0->en-core-web-lg==3.6.0) (4.5.0)\n",
            "Requirement already satisfied: charset-normalizer<4,>=2 in /usr/local/lib/python3.10/dist-packages (from requests<3.0.0,>=2.13.0->spacy<3.7.0,>=3.6.0->en-core-web-lg==3.6.0) (3.3.2)\n",
            "Requirement already satisfied: idna<4,>=2.5 in /usr/local/lib/python3.10/dist-packages (from requests<3.0.0,>=2.13.0->spacy<3.7.0,>=3.6.0->en-core-web-lg==3.6.0) (3.6)\n",
            "Requirement already satisfied: urllib3<3,>=1.21.1 in /usr/local/lib/python3.10/dist-packages (from requests<3.0.0,>=2.13.0->spacy<3.7.0,>=3.6.0->en-core-web-lg==3.6.0) (2.0.7)\n",
            "Requirement already satisfied: certifi>=2017.4.17 in /usr/local/lib/python3.10/dist-packages (from requests<3.0.0,>=2.13.0->spacy<3.7.0,>=3.6.0->en-core-web-lg==3.6.0) (2023.11.17)\n",
            "Requirement already satisfied: blis<0.8.0,>=0.7.8 in /usr/local/lib/python3.10/dist-packages (from thinc<8.2.0,>=8.1.8->spacy<3.7.0,>=3.6.0->en-core-web-lg==3.6.0) (0.7.11)\n",
            "Requirement already satisfied: confection<1.0.0,>=0.0.1 in /usr/local/lib/python3.10/dist-packages (from thinc<8.2.0,>=8.1.8->spacy<3.7.0,>=3.6.0->en-core-web-lg==3.6.0) (0.1.4)\n",
            "Requirement already satisfied: click<9.0.0,>=7.1.1 in /usr/local/lib/python3.10/dist-packages (from typer<0.10.0,>=0.3.0->spacy<3.7.0,>=3.6.0->en-core-web-lg==3.6.0) (8.1.7)\n",
            "Requirement already satisfied: MarkupSafe>=2.0 in /usr/local/lib/python3.10/dist-packages (from jinja2->spacy<3.7.0,>=3.6.0->en-core-web-lg==3.6.0) (2.1.4)\n",
            "\u001b[38;5;2m✔ Download and installation successful\u001b[0m\n",
            "You can now load the package via spacy.load('en_core_web_lg')\n",
            "2024-02-02 15:18:52.402201: E external/local_xla/xla/stream_executor/cuda/cuda_dnn.cc:9261] Unable to register cuDNN factory: Attempting to register factory for plugin cuDNN when one has already been registered\n",
            "2024-02-02 15:18:52.402277: E external/local_xla/xla/stream_executor/cuda/cuda_fft.cc:607] Unable to register cuFFT factory: Attempting to register factory for plugin cuFFT when one has already been registered\n",
            "2024-02-02 15:18:52.403716: E external/local_xla/xla/stream_executor/cuda/cuda_blas.cc:1515] Unable to register cuBLAS factory: Attempting to register factory for plugin cuBLAS when one has already been registered\n",
            "2024-02-02 15:18:53.759803: W tensorflow/compiler/tf2tensorrt/utils/py_utils.cc:38] TF-TRT Warning: Could not find TensorRT\n",
            "Collecting en-core-web-sm==3.6.0\n",
            "  Using cached https://github.com/explosion/spacy-models/releases/download/en_core_web_sm-3.6.0/en_core_web_sm-3.6.0-py3-none-any.whl (12.8 MB)\n",
            "Requirement already satisfied: spacy<3.7.0,>=3.6.0 in /usr/local/lib/python3.10/dist-packages (from en-core-web-sm==3.6.0) (3.6.1)\n",
            "Requirement already satisfied: spacy-legacy<3.1.0,>=3.0.11 in /usr/local/lib/python3.10/dist-packages (from spacy<3.7.0,>=3.6.0->en-core-web-sm==3.6.0) (3.0.12)\n",
            "Requirement already satisfied: spacy-loggers<2.0.0,>=1.0.0 in /usr/local/lib/python3.10/dist-packages (from spacy<3.7.0,>=3.6.0->en-core-web-sm==3.6.0) (1.0.5)\n",
            "Requirement already satisfied: murmurhash<1.1.0,>=0.28.0 in /usr/local/lib/python3.10/dist-packages (from spacy<3.7.0,>=3.6.0->en-core-web-sm==3.6.0) (1.0.10)\n",
            "Requirement already satisfied: cymem<2.1.0,>=2.0.2 in /usr/local/lib/python3.10/dist-packages (from spacy<3.7.0,>=3.6.0->en-core-web-sm==3.6.0) (2.0.8)\n",
            "Requirement already satisfied: preshed<3.1.0,>=3.0.2 in /usr/local/lib/python3.10/dist-packages (from spacy<3.7.0,>=3.6.0->en-core-web-sm==3.6.0) (3.0.9)\n",
            "Requirement already satisfied: thinc<8.2.0,>=8.1.8 in /usr/local/lib/python3.10/dist-packages (from spacy<3.7.0,>=3.6.0->en-core-web-sm==3.6.0) (8.1.12)\n",
            "Requirement already satisfied: wasabi<1.2.0,>=0.9.1 in /usr/local/lib/python3.10/dist-packages (from spacy<3.7.0,>=3.6.0->en-core-web-sm==3.6.0) (1.1.2)\n",
            "Requirement already satisfied: srsly<3.0.0,>=2.4.3 in /usr/local/lib/python3.10/dist-packages (from spacy<3.7.0,>=3.6.0->en-core-web-sm==3.6.0) (2.4.8)\n",
            "Requirement already satisfied: catalogue<2.1.0,>=2.0.6 in /usr/local/lib/python3.10/dist-packages (from spacy<3.7.0,>=3.6.0->en-core-web-sm==3.6.0) (2.0.10)\n",
            "Requirement already satisfied: typer<0.10.0,>=0.3.0 in /usr/local/lib/python3.10/dist-packages (from spacy<3.7.0,>=3.6.0->en-core-web-sm==3.6.0) (0.9.0)\n",
            "Requirement already satisfied: pathy>=0.10.0 in /usr/local/lib/python3.10/dist-packages (from spacy<3.7.0,>=3.6.0->en-core-web-sm==3.6.0) (0.11.0)\n",
            "Requirement already satisfied: smart-open<7.0.0,>=5.2.1 in /usr/local/lib/python3.10/dist-packages (from spacy<3.7.0,>=3.6.0->en-core-web-sm==3.6.0) (6.4.0)\n",
            "Requirement already satisfied: tqdm<5.0.0,>=4.38.0 in /usr/local/lib/python3.10/dist-packages (from spacy<3.7.0,>=3.6.0->en-core-web-sm==3.6.0) (4.66.1)\n",
            "Requirement already satisfied: numpy>=1.15.0 in /usr/local/lib/python3.10/dist-packages (from spacy<3.7.0,>=3.6.0->en-core-web-sm==3.6.0) (1.23.5)\n",
            "Requirement already satisfied: requests<3.0.0,>=2.13.0 in /usr/local/lib/python3.10/dist-packages (from spacy<3.7.0,>=3.6.0->en-core-web-sm==3.6.0) (2.31.0)\n",
            "Requirement already satisfied: pydantic!=1.8,!=1.8.1,<3.0.0,>=1.7.4 in /usr/local/lib/python3.10/dist-packages (from spacy<3.7.0,>=3.6.0->en-core-web-sm==3.6.0) (1.10.14)\n",
            "Requirement already satisfied: jinja2 in /usr/local/lib/python3.10/dist-packages (from spacy<3.7.0,>=3.6.0->en-core-web-sm==3.6.0) (3.1.3)\n",
            "Requirement already satisfied: setuptools in /usr/local/lib/python3.10/dist-packages (from spacy<3.7.0,>=3.6.0->en-core-web-sm==3.6.0) (67.7.2)\n",
            "Requirement already satisfied: packaging>=20.0 in /usr/local/lib/python3.10/dist-packages (from spacy<3.7.0,>=3.6.0->en-core-web-sm==3.6.0) (23.2)\n",
            "Requirement already satisfied: langcodes<4.0.0,>=3.2.0 in /usr/local/lib/python3.10/dist-packages (from spacy<3.7.0,>=3.6.0->en-core-web-sm==3.6.0) (3.3.0)\n",
            "Requirement already satisfied: pathlib-abc==0.1.1 in /usr/local/lib/python3.10/dist-packages (from pathy>=0.10.0->spacy<3.7.0,>=3.6.0->en-core-web-sm==3.6.0) (0.1.1)\n",
            "Requirement already satisfied: typing-extensions>=4.2.0 in /usr/local/lib/python3.10/dist-packages (from pydantic!=1.8,!=1.8.1,<3.0.0,>=1.7.4->spacy<3.7.0,>=3.6.0->en-core-web-sm==3.6.0) (4.5.0)\n",
            "Requirement already satisfied: charset-normalizer<4,>=2 in /usr/local/lib/python3.10/dist-packages (from requests<3.0.0,>=2.13.0->spacy<3.7.0,>=3.6.0->en-core-web-sm==3.6.0) (3.3.2)\n",
            "Requirement already satisfied: idna<4,>=2.5 in /usr/local/lib/python3.10/dist-packages (from requests<3.0.0,>=2.13.0->spacy<3.7.0,>=3.6.0->en-core-web-sm==3.6.0) (3.6)\n",
            "Requirement already satisfied: urllib3<3,>=1.21.1 in /usr/local/lib/python3.10/dist-packages (from requests<3.0.0,>=2.13.0->spacy<3.7.0,>=3.6.0->en-core-web-sm==3.6.0) (2.0.7)\n",
            "Requirement already satisfied: certifi>=2017.4.17 in /usr/local/lib/python3.10/dist-packages (from requests<3.0.0,>=2.13.0->spacy<3.7.0,>=3.6.0->en-core-web-sm==3.6.0) (2023.11.17)\n",
            "Requirement already satisfied: blis<0.8.0,>=0.7.8 in /usr/local/lib/python3.10/dist-packages (from thinc<8.2.0,>=8.1.8->spacy<3.7.0,>=3.6.0->en-core-web-sm==3.6.0) (0.7.11)\n",
            "Requirement already satisfied: confection<1.0.0,>=0.0.1 in /usr/local/lib/python3.10/dist-packages (from thinc<8.2.0,>=8.1.8->spacy<3.7.0,>=3.6.0->en-core-web-sm==3.6.0) (0.1.4)\n",
            "Requirement already satisfied: click<9.0.0,>=7.1.1 in /usr/local/lib/python3.10/dist-packages (from typer<0.10.0,>=0.3.0->spacy<3.7.0,>=3.6.0->en-core-web-sm==3.6.0) (8.1.7)\n",
            "Requirement already satisfied: MarkupSafe>=2.0 in /usr/local/lib/python3.10/dist-packages (from jinja2->spacy<3.7.0,>=3.6.0->en-core-web-sm==3.6.0) (2.1.4)\n",
            "\u001b[38;5;2m✔ Download and installation successful\u001b[0m\n",
            "You can now load the package via spacy.load('en_core_web_sm')\n"
          ]
        }
      ],
      "source": [
        "import spacy\n",
        "import pandas as pd\n",
        "!python -m spacy download en\n",
        "!python -m spacy download en_core_web_lg\n",
        "!python -m spacy download en_core_web_sm\n",
        "# Load pre-trained spaCy model with word embeddings\n",
        "!python -m spacy download en_core_web_md"
      ]
    },
    {
      "cell_type": "code",
      "execution_count": null,
      "metadata": {
        "colab": {
          "background_save": true
        },
        "id": "VkVkX47Im_u-"
      },
      "outputs": [],
      "source": []
    },
    {
      "cell_type": "code",
      "execution_count": null,
      "metadata": {
        "colab": {
          "background_save": true
        },
        "id": "AkUGOwq1m_yc"
      },
      "outputs": [],
      "source": []
    },
    {
      "cell_type": "code",
      "execution_count": 28,
      "metadata": {
        "id": "IRU4-WU7jwj7"
      },
      "outputs": [],
      "source": [
        "skills_context_directory = './quizes-scrapper/skills-context-matching/'\n",
        "\n",
        "skills_dataset = skills_context_directory + 'unique_skills.csv'\n",
        "context_dataset = skills_context_directory + 'unique_contexts.csv'\n",
        "\n"
      ]
    },
    {
      "cell_type": "code",
      "execution_count": 12,
      "metadata": {
        "id": "4G9B5FkFjwrh"
      },
      "outputs": [],
      "source": [
        "\n",
        "df = pd.read_csv(skills_dataset)\n",
        "\n",
        "# Print the first few rows of the DataFrame\n",
        "unique_skills = df['skills'].unique()\n",
        "\n",
        "\n",
        "entity_df = pd.DataFrame(columns=['Skill'])\n",
        "\n",
        "unique_skills_set = set()\n",
        "\n",
        "# Load the pre-trained model\n",
        "nlp = spacy.load('en_core_web_sm')\n",
        "\n",
        "for skills_str in df['skills'].unique():\n",
        "    if pd.isna(skills_str):  # Skip nan values\n",
        "        continue\n",
        "\n",
        "    # Split skills based on commas\n",
        "    skills_list = [skill.strip().lower() for skill in skills_str.split(',')]\n",
        "\n",
        "\n",
        "    for skill in skills_list:\n",
        "        if skill not in unique_skills_set:\n",
        "            unique_skills_set.add(skill)\n",
        "            doc = nlp(skill)\n",
        "            for ent in doc.ents:\n",
        "                entity_df = pd.concat([entity_df, pd.DataFrame({'Skill': [skill]})], ignore_index=True)\n",
        "\n",
        "\n",
        "print(\"Total Unique Skills:\", len(unique_skills_set))"
      ]
    },
    {
      "cell_type": "code",
      "execution_count": 14,
      "metadata": {
        "colab": {
          "base_uri": "https://localhost:8080/"
        },
        "id": "8CH4uevrpXjU",
        "outputId": "402fe1e4-8f24-4588-db7e-5cd64143fdf9"
      },
      "outputs": [
        {
          "output_type": "stream",
          "name": "stdout",
          "text": [
            "Total Unique Skills: 26405\n"
          ]
        }
      ],
      "source": []
    },
    {
      "cell_type": "code",
      "execution_count": 21,
      "metadata": {
        "colab": {
          "base_uri": "https://localhost:8080/"
        },
        "id": "0S4YsuWdpX8T",
        "outputId": "3c8abcf0-313b-4269-fd89-5f4e0507d56d"
      },
      "outputs": [
        {
          "output_type": "stream",
          "name": "stdout",
          "text": [
            "Total Unique Contexts: 1271\n",
            "{'c-sharp', 'building regular expressi', 'optimal page replacement algorithm', 'types of set', 'master’s theorem – 1', 'creating bea', 'putting perl dbi to work', 'caret – 3', 'artificial intelligence mcq', 'problem solvable in polynomial time', 'microsoft-project', 'maximum bipartite matching', 'quickhull', 'autokey cipher', 'pipeline operators-2', 'des modes of operation – ii', 'division of object', 'sketchup', 'multi-threaded programming – 2', 'performing database maintenance with the server running', 'refinements of style', 'hdfs administrati', 'building a service and business process with spring', 'introduction of reflecti', 'introducing behaviors and states to your bea', 'introduction to hbase', 'assignment operator', 'de-morgan’s law', 'pandas – 1', 'pigeonhole sort', 'implication and double implicati', 'karnaugh map', 'mongodb documents-1', 'pumping lemma for regular language', 'control structures – 3', 'the zookeeper service-1', 'shiny', 'amazon elastic mapreduce', 'bipartite graph', 'creating, dropping, indexing and altering table', 'rules of exponent', 'the integers and divisi', 'longest palindromic subsequence', 'minimum insertions to form a palindrome', 'architecture qualitie', 'block cipher system', 'non deterministic finite automata-introducti', 'recursive bubble sort', 'whirlpool algorithm – i', 'number of relati', 'geometric sequence', 'index types-2', 'playfair cipher', 'spring r', 'conditional evaluati', 'counting sort', 'search an element in a linked list using recursi', 'counting boolean parenthesizati', 'introduction of overloaded operator', 'ip datagram packet', 'testing emptiness and membership', 'polynomial and modular arithmetic- ii', 'pseudorandom number generators-i', 'using server-side prepared statement', 'introduction to hive', 'crunch with hadoop-1', 'searching', 'simulation of turing machine', 'spring batch’s infrastructure and reading, writing', 'extended transition functi', 'dbms mcq', 'functions – 2', 'case sensitivity in sql statement', 'internet of thing', 'packages – 1', 'caret – 2', 'data types – 2', 'the group by and having clause', 'basic', 'microsoft-acce', 'the aes algorithm – i', 'web technology mcq', 'hadoop configurati', 'quicksort – 2', 'textual data formats – 2', 'heapsort – 1', 'static modelling heuristic', 'breadth first search', 'basic  operation on string', 'microsoft-azure', 'choosing data types for efficient querie', 'refreshing and defining beans from script', 'cubesort', 'advanced uml state diagram', 'linear search recursive', 'bootstrap', 'packages – 3', 'matrix multiplication using recursi', 'polynomial and modular arithmetic- iv', 'uniform binary search', 'simulation – 1', 'layers – i', 'fibonacci using dynamic programming', 'mongodb enterprise – 1', 'learn php tutorial', 'data wrangling – 1', 'index propertie', 'building domain specific language', 'expre', 'highest common factor', 'securing and persisting objects in web flow', 'rest service with spring', 'coin change problem', 'fundamental principle of counting', 'java send email api', 'finalizing product desig', 'spring source tool suite', 'arranging for mysql server startup and shutdow', 'cybersecurity', 'avro-2', 'commands – 1', 'c++', 'ccm, gcm and key wrapping – ii', 'the simplified data encryption standard (sdes)', 'prime number', 'the aes algorithm – ii', 'architecture and legacy system', 'securing a new mysql installati', 'flume with hadoop', 'operating system mcq', 'maths cla', 'introduction to hcatalog', 'iot mcq', 'functions – 5', 'indexing strategie', 'serializati', 'probability and statistic', 'here', 'computer network', 'rice’s theorem, properties and pcp', 'html', 'index types-1', 'quicksort – 1', 'big data and mongodb', 'substitution and transposition techniques – i', 'pandas data structure', 'spatial data type', 'jms messages and transacti', 'learn c# tutorial', 'bean post processor', 'sequences and summati', 'integration of system', 'hadoop on microsoft azure', 'object oriented programming mcq', 'lucene with hadoop-1', 'the language of turing machine-2', 'the order by clauses – 2', 'iterator', 'control structures – 1', 'applications of pumping lemma', 'data from collecti', 'fundamentals of namespace', 'flex and sandbox in spring', 'basics – 2', 'mysql datatypes – 3', 'c-(programming-language)', 'nested quantifier', 'final-cut-pr', 'fundamentals of exception handling', 'polyalphabetic cipher', 'generating and improving software architecture', 'dpda and ambiguous grammar', 'mahout with hadoop-2', 'using the simple jdbc template and handling excepti', 'dijkstra’s algorithm', 'spring mvc web applications and requests handler', 'maximum flow problem', 'mongodb backup', 'venn diagram', 'microsoft-word', 'visibility, accessibility and information hiding', 'learn javascript tutorial', 'complement of a number', 'read operations-1', 'data types – 4', 'perl dbi overview – 1', 'depth first search', 'vba', 'set operations – 1', 'sql statement syntax (non-compound statements)', 'lattice', 'set partition problem', 'data types – 7', 'lexical analysi', 'data types and variable', 'insertion sort – 1', 'principle of inclusion exclusi', 'replica set high availability', 'geospatial index', 'kafka with hadoop-2', 'introduction of stream classe', 'splitters and aggregators, routing', 'imovie', 'pumping lemma for context free language', 'try & catch in detail', 'pipeline limit', 'user and role management', 'keynote', 'the generator category, factory patterns and singleton patter', 'harmonic sequence', 'unsafe code & pointers basic', 'arithmetic and geometric mea', 'junit mcq', 'from grammars to push down automata', 'sql to aggregation mapping chart', 'local hadoop cloudera', 'the select clauses – 2', 'modularity principle', 'loop functions – 2', 'cloud computing mcq', 'linear regression – 3', 'addition theorem on probability', 'loop functions – 1', 'linear regression – 2', 'topological sorting', 'number of solution of equati', 'different path in a graph', 'bson', 'distribution – 1', 'reading from web and apis-2', 'substring searching algorithm', 'web services with xml marshalling and service end point', 'uml sequence diagram', 'quicksort using median-of-three partitioning', 'graphs propertie', 'functions – 3', 'mapreduce features-2', 'microsoft-outlook', 'capturing architectural information in an adl', 'hiveql-2', 'hill cipher', 'connection interface', 'introduction to hdfs', 'monoalphabetic cipher', 'secure socket layer – i', 'processing sql statement', 'introduction to dplyr – 2', 'wagner-fischer algorithm', 'number of functi', 'diagraph', 'edit distance problem', 'strong induction and well ordering', 'symmetric key distribution – i', 'cloud computing', 'rod cutting', 'enabling or disabling local capability for load data', 'string method', 'microprocessor mcq', 'partial ordering', 'properties of bipartite graph', 'modular exponentiati', 'design finalizati', 'mapreduce development-2', 'interconversion for prefix, postfix & infix notati', 'multiplication theorem on probability', 'tree traversal', 'sum of digits of a number using recursi', 'converting regular expressions to automata', 'types of questions-2', 'yarn-1', 'the from clauses – 2', 'organizational implications of a product line', 'maximum sum of continuous subarray – 2', 'it-operati', 'managing mysql user account', 'recursive insertion sort', 'the language of dfa', 'hcatalog with hadoop-1', 'database copie', 'connecting to the server', 'conceptual modelling', 'system quality attributes not discernable at runtime', 'catalan number using dynamic programming', 'system variable', 'prime implicants and essential', 'blowfish algorithm – i', 'android', 'pspace', 'decimal to binary conversion using recursi', 'controlling how the server listens for connecti', 'cocktail sort', 'pigpen cipher', 'software design management', 'handling errors and processing command opti', 'pda-acceptance by empty stack', 'react', 'populating and modifying tables – 2', 'g', 'getting started with osgi', 'collection classe', 'scoping rules – 2', 'uri cla', 'dpda and context free language', 'problems with direct jdbc', 'javascript', 'handling security in views and domain object security', 'quick search algorithm', 'coset', 'slidify', 't-sql', 'abstract class & method', 'computer fundamental mcq', 'yarn-2', 'populating and modifying tables – 3', 'architectural business cycle', 'hadoop libraries-2', 'install and configure', 'mapreduce format', 'the universal language-undecidability', 'the language of turing machine-1', 'analyzing data with hadoop', 'interfaces implementati', 'microsoft-power-automate', 'complete and connected graph', 'hadoop utilities-1', 'ramification of addressing quality attribute', 'cluster architecture', 'the select clauses – 1', 'artificial intelligence', 'layered architecture', 'exploratory data analysis – 1', 'odd-even sort', 'eclipse', 'stooge sort', 'numeric data type', 'compiling and linking client program', 'computer graphics mcq', 'gnome sort', 'setting up secure connecti', 'gronsfeld cipher', 'java', 'minimum spanning tree', 'query mechanic', 'bottom-up mergesort', 'special sequence', 'enumerati', 'learn jquery tutorial', 'groups rings and field', 'getting started with mongodb-2', 'agile-methodologie', 'graph’s matrice', 'principles of preventive maintenance', 'updating mysql', 'basics – 3', 'overview – iii', 'huffman code', 'data types – 1', 'debugging tool', 'applications of dfa', 'introduction to mapreduce', 'engineering design principle', 'in-place merge sort', 'php overview', 'assembly line scheduling', 'basic database terminology', 'ieee 802.11i wlan security – i', 'types of proof', 'search an element in an array using recursion – 2', 'functions – 1', 'data wrangling – 2', 'quickselect', 'data types – 5', 'wordpre', 'advanced uml class diagram', 'using backups for data recovery', 'turing machine – notation and transition diagram', 'transactions and retrying', 'ai', 'finding patterns in text, algebric laws and derivative', 'rc4 and rc5 – i', 'binary insertion sort', 'jquery', 'largest and smallest number in a linked list using recursi', 'summarizing and merging data', 'rust', 'storm', 'towers of hanoi using recursi', 'comparison of string', 'fundamental of networking', 'internationalization and localization issue', 'adobe-photoshop', 'data structure mcqs (dsa i)', 'des modes of operation – i', 'master slave replicati', 'network hardware', 'learn data structure', 'generate test data', 'nosql', 'properties and its applicati', 'discrete mathematic', 'functions – 7', 'array', 'basics – 4', 'overview – iv', 'spark with hadoop-1', 'spring-framework', 'circular permutati', 'search-engine-optimizati', 'managing web flow', 'sentential form', 'oozie with hadoop-1', 'copying databases to another server', 'reading datasets – 2', 'hadoop', 'database maintenance, backups and replicati', 'gcd and lcm using recursion – 1', 'operation on character', 'system collecti', 'properties of matrice', 'apis available for mysql', 'longest increasing subsequence', 'the meteorological anchor desk system – case study ii', 'whirlpool algorithm – iii', 'pigeonhole principle', 'bucket sort (uniform keys)', 'run-time database configurati', 'greedy algorithm', 'cfl- other normal form', 'orm framework', 'stable marriage problem', 'user-defined variable', 'data integrity', 'ambari with hadoop', 'yacc parser generator', 'ccm, gcm and key wrapping – i', 'adobe-lightroom', 'number and sum of divisor', 'cycle sort', 'best first search', 'replication in mongodb', 'fundamentals of inheritance', 'knitr', 'hcatalog with hadoop-2', 'reading datasets – 1', 'number theory – iv', 'software engineering design method', 'ieee 802.11i wlan security – iii', 'comments in ruby', 'pyth', 'pancake sort', 'learn c++ tutorial', 'number theory – ii', 'map-reduce and sharded collecti', 'needs elicitation documentation and analysi', 'html mcq', 'ds', 'probability distributi', 'secure hash algorithms (sha) – iv', 'packages – 5', 'custom layouts, tags and template', 'type interface', 'securing url acce', 'sharding mechanic', 'architecture and quality attribute', 'data types – 6', 'group axiom', 'the if conditional statement', 'permutation group', 'raw and processed data', 'data types – 3', 'transformation and error handling', 'the aes algorithm – iv', 'kafka with hadoop-1', 'basics of data science', 'tidy data', 'logic-pr', 'functions – 8', 'location of the data directory', 'compound statement syntax', 'layers – ii', 'mapreduce development-1', 'terms in binomial expansi', 'linux', 'bogosort', 'bifid cipher', 'project mission statement', 'after-effect', 'generating partiti', 'longest common subsequence', 'product design analysi', 'workflow models and jbpm', 'model based predicti', 'p, np, np-hard, np-complete complexity classe', 'logical equivalence', 'cfg-eliminating useless symbol', 'installation – 1', 'introduction to reproducible research', 'json with rest', 'branch and bound', 'n queens problem', 'rc4 and rc5 – ii', 'model monetary and time', 'replica set deployment architecture', 'transaction management', 'line point distance', 'general mysql administrati', 'drafting a class model', 'the facade and mediator patter', 'debugging', 'microcontroller mcq', 'mysql component', 'generating combinati', 'affine cipher', 'inferences to trees and trees to derivati', 'c++ programming language', 'public & private access modifier', 'web technology', 'git', 'integrating jbpm 4', 'pig in practice', 'unit testing spring', 'dotnet-framework', 'mealy machine', 'type conversion in expressi', 'common distributi', 'integer  data type', 'interaction design process and interaction modelling heuristic', 'dbms', 'cryptography-encrypti', 'merge sort', 'logic and bit operati', 'scoping rules – 1', 'visual basic mcq', 'selection sort', 'hash functions based on cipher block chaining', 'introduction to statistical inference', 'sharded cluster data management-2', 'multitape turing machine', 'mysql', 'interfaces introducti', 'overview of r – 3', 'populating and modifying tables – 1', 'number theory – v', 'principle of mathematical inducti', 'kotli', 'generating permutati', 'plotting system', 'setting the transaction attribute', 'r profiler – 2', 'parallelizing processing and load balancing', 'choosing an api', 'public keys and x.509 certificates-i', 'mysql datatypes – 1', 'aspectj annotati', 'authorizati', 'epsilon closure', 'sorting', 'lsd radix sort', 'unit operati', 'front-end-development', 'classful addressing', 'boolean functi', 'introduction of indexer', 'while loop', 'primes and greatest common divisor', 'serialization in java', 'adobe-acrobat', 'geometric probability', 'dfa processing string', 'non deterministic polynomial time', 'trithemius cipher', 'introduction to zookeeper', 'general preventative maintenance', 'access control and security', 'property editors and task executors in spring', 'index management', 'introduction of propertie', 'css (cascading style sheet)', 'unity', 'backbone', 'hadoop incubators-3', 'the order by clauses – 1', 'autodesk-maya', 'simulation – 2', 'until loop', 'floor and ceiling functi', 'finite automata – basic', 'planarity, degree and coloring of graph', 'string formatting – 2', 'optimization strategies-2', 'djang', 'powerpoint', 'compound statements and statement delimiter', 'floyd-warshall algorithm', 'grails application and plugi', 'the meteorological anchor desk system – case study i', 'authenticati', 'context free grammar-derivations and definiti', 'msd radix sort', 'relocating data directory content', 'mid-level design pattern categories and broker patter', 'visualizing data – 2', 'regular language & expression – 2', 'textual data formats – 1', 'heapsort – 2', 'write operati', 'performing multiple – table retrievals with uni', 'neural network', 'computer network mcq', 'layers – iii', 'administrative-level optimizati', 'polynomial and modular arithmetic- iii', 'types of statement', 'xml', 'java language', 'functi', 'introduction of array cla', 'regular language & expression – 1', 'rounding functions in c#', 'spark with hadoop-2', 'the growth of functi', 'fundamental of generic', 'forming the team structure', 'aw', 'hadoop utilities-2', 'complete bipartite graph', 'factorial using recursi', 'autodesk-fusion-360', 'the data encryption standard and strength – i', 'functions – 6', 'graphics with r – 2', 'observations on saam', 'prim’s algorithm', 'indexing method', 'metrics in hbase', 'closure and associativity', 'character stream', 'use of variable arguement', 'sharding concept', 'learn java', 'types of relati', 'the zookeeper service-2', 'morse code – 2', 'closure on relati', 'getting started with mongodb-1', 'balanced partiti', 'cassandra with hadoop-2', 'aggregation pipeline', 'conversion by eliminating state', 'c++ mcq', 'java interface', 'reversal-homomorphism and inverse homomorphism', 'fractional knapsack problem', 'ggplot2 – 3', 'specifying software architecture', 'combinati', 'mapreduce features-1', 'console input and evaluation – 1', 'data management', 'bean scope', 'exponential search', 'prototyping and uml use case diagram', 'simpler notati', 'linear permutati', 'patterns in software desig', 'map-reduce', 'using multiple-statement executi', 'square root decompositi', 'architectural desig', 'message-driven pojos in spring and making connecti', 'python mcq', 'operations on matrice', 'saam applied to financial management system', 'arithmetic sequence', 'ejb 2.x with spring', 'adobe-xd', 'recursive selection sort', 'spring dynamic module', 'hadoop streaming', 'ruby-on-rail', 'revit', 'overview of r – 2', 'machine learning mcq', 'cross validati', 'security checklist', 'domain and range of functi', 'morse code – 1', 'hama with hadoop-2', 'big data', 'autocad', 'clustering', 'spring portlet mvc', 'ibm infosphere', 'microsoft-power-point', 'strassen’s algorithm', 'text search', 'fundamental of delegate', 'accessor controls of cla', 'replica set member', 'power serie', 'recursi', 'char types and string literal', 'multistack and counter machine', 'google-ad', 'learn c programming', 'foreign keys and referential integrity', 'distribution – 2', 'introduction to sqoop', 'designing subnets – i', 'method overloading', 'cli and git workflow-2', 'querying data with hiveql-1', 'constructors in cla', 'the from clauses – 1', 'complexity of algorithms – 1', 'e-mail and scheduling with spring support', 'soap web service', 'the elsif conditional statement', 'jdbc template', 'structure of the data directory', 'uml deployment diagram', 'thrift with hadoop-2', 'optimization strategies-3', 'fundamentals of preprocessor', 'plotting in pyth', 'the prototype pattern, reactor pattern and command patter', 'master’s theorem – 2', 'model data for atomic operati', 'making database backup', 'installation – 2', 'operational strategie', 'node-cover problem and hamilton circuit problem', 'uml state diagram', 'rdbms mcq', 'capped collecti', 'chuckwa with hadoop-2', 'set', 'ieee 802.11i wlan security – ii', 'orchestration in hadoop', 'data modeling concepts-2', 'clustering object state using terracotta and execution to a grid', 'regular expression – introducti', 'exit codes and statuse', 'regular expressions and text variable', 'mysql setup – 1', 'chan’s algorithm', 'dice throw problem', 'commands – 3', 'architectural reviews-cost and benefit', 'tautologies and contradicti', 'symmetric key distribution – ii', 'performing transacti', 'thrift with hadoop-1', 'rabin-karp algorithm', 'session-only system variable', 'adobe-ai', 'linear regression – 1', 'css', 'ejb 3.0 with spring', 'javascript mcq', 'tree sort', 'ieee 802.11 wlan – ii', 'mongodb', 'hash functions and its applicati', 'uml package and component diagram', 'reading console input operati', 'group theory', 'minimization of boolean functi', 'runtime type', 'secure shell(ssh) – ii', 'angular', 'bean validation and creating excel and pdf', 'r profiler – 1', 'cascading style sheets (css)', 'sharepoint', 'architectural patterns, reference model', 'hadoop ecosystem', 'software design processe', 'review technique', 'php', 'spring web service', 'sharded cluster behavior', 'server sql mode', 'insertion sort – 2', 'gcd and lcm using recursion – 2', 'topologie', 'mongodb package', 'generating subset', 'database profiler', 'user locales and locale-sensitive text message', 'time delta', 'aggregati', 'spanning tree', 'security', 'the aes algorithm – iii', 'maintaining log', 'packages – 2', 'binary tree sort', 'learn css tutorial', 'query clause', 'software requirement specificati', 'literate statistical programming – 2', 'computational tool', 'history of hadoop', 'php mcq', 'evaluating and selecting requirement', 'prediction motivati', 'implementation of exception handling', 'set operations – 2', 'sqoop with hadoop-2', 'finite automata', 'embedded systems mcq', 'data model examples and patter', 'applications of number theory', 'eliminating unit producti', 'engineering design resolution activitie', 'co-ordinate compressi', 'minimum number of jump', 'mysql query optimizer', 'cyber security', 'packages – 4', 'hadoop libraries-1', 'dynamic programming', 'basics – 1', 'arc-gi', 'date and time data type', 'condition types – 2', 'arrays of array', 'impala', 'beaufort cipher', 'shell sort – 1', 'strand sort', 'ip addressing', 'r', 'whirlpool algorithm – ii', 'propositi', 'transport layer security and https', 'subset sum problem', 'springsource dm server and tooling', 'logging and unit testing', 'using perl dbi in web applicati', 'union, intersection & complement', 'subsetting – 1', 'interacting with mysql', 'number theory – i', 'commands – 2', 'production mongodb', 'kruskal’s algorithm', 'use case descriptions and model', 'deterministic pda', 'quicksort – 3', 'method overriding', 'mongodb maintenance', 'closest pair problem', 'machine-learning', 'string class with descripti', 'cyclic group', 'business qualitie', 'perl script characteristic', 'operation specificati', 'computer architecture mcq', 'sql', 'generating alternative requirement', 'attribute', 'compressi', 'history of r – 2', 'existence of identity & inverse', 'software testing', 'library functi', 'intersection with regular language', 'accessing and integrating spring with known framework', 'dates and time', 'introduction to pig', 'hama with hadoop-1', 'cli and git workflow-1', 'functions – 4', 'sharded cluster data management-1', 'introduction of string formatting', 'data value categories – 2', 'data modeling introducti', 'properties of tree', 'cartesian product of set', 'tuning the server', 'hdfs maintenance', 'the language of nfa', 'mapreduce job-2', 'writing console output operati', 'condition types – 1', 'class rp, zpp and complexity', 'bayes theorem', 'generating functi', 'graphics devices-2', 'aggregation operati', 'arrays of non-number', 'member configurati', 'structure', 'model tree structure', 'objective-c', 'residual variation and multivariate', 'regular expression in unix', 'computer graphic', 'how mysql handles invalid data value', 'data value categories – 1', 'read operations-2', 'jump search', 'predicate logic quantifier', 'dreamweaver', 'collection iterator patter', 'architectural styles ii', 'equivalence of nfa and dfa', 'mysql setup – 2', 'fibonacci using recursi', 'querying data with hiveql-2', 'mongodb documents-2', 'the data encryption standard and strength – ii', 'multi-threaded programming – 1', 'fibonacci search', 'troubleshooting', 'inverse of a functi', 'cryptography-decrypti', 'polymorphism', 'hadoop archive', 'searching and modifying string', 'vigenère cipher', 'hasse diagram', 'applications of nfa', 'swift', 'polybius square', 'sharding introducti', 'columnar transpositi', 'maximum sum of continuous subarray – 1', 'integers and algorithm', 'putting php to work', 'troubleshooting sharded cluster', 'fundamental of linq', 'first-in, first-out algorithm (fifo)', 'working with sequence', 'core java', 'solidwork', 'index types-3', 'avro-1', 'binary and count outcome', 'architectural structural view', 'toolbox overview', 'internationalization (i18n) message properties and storage propertie', 'running key cipher', 'shell sort – 2', 'event', 'subsetting – 2', 'table creati', 'microsoft-excel', 'finalizing software architecture', 'the else conditional statement', 'system quality attributes discernable at runtime', 'numpy – 1', 'literate statistical programming – 1', 'sum of n natural numbers using recursi', 'types of algorithm', 'using view', 'pipeline operators-1', 'byte stream', 'google-cloud-platform', 'exceptions of type finally and built i', 'designing with state diagram', 'overview of software architecture analysis method', 'secure shell(ssh) – i', 'oracle mcq', 'inclusion-exclusion principle', 'compiler mcq', 'c', 'markup language', 'scaling out in hadoop', 'operational segregati', 'collection-level access control', 'history of r – 1', 'pseudorandom number generators-iii', 'lucene with hadoop-2', 'integrating spring web flow with jsf', 'android operating system', 'applying unit operations to user-interface software', 'reactjs', 'open system', 'public keys and x.509 certificates-iii', 'subgroup', 'views mapping and handling', 'graphics with r – 1', 'eliminating epsilon producti', 'route cipher', 'quicksort using random sampling', 'mongodb administrati', 'trigger', 'controlling step execution and job', 'cycle', 'complexity of algorithms – 2', 'the adapter patterns and proxy patter', 'data modeling concepts-1', 'string data type', 'indexes in mongodb', 'ambiguous grammar', 'hadoop incubators-2', 'securing web applicati', 'expression evaluation and type conversi', 'non-recursive depth first search', 'predictive analytic', 'css mcq', 'spring blazeds support', 'predicting with regressi', 'chromatic number', 'timsort', 'jmx mbea', 'non deterministic turing machine', 'application’s domain classe', 'choosing data type', 'hadoop incubators-1', 'hmac, daa and cmac', 'standards i', 'analysis and experimental desig', 'public keys and x.509 certificates-ii', 'euclid’s algorithm', 'bigtop', 'software engineering mcq', 'analyzing software architecture', 'sa', 'aggregation mechanic', 'selecting, creating, dropping and altering database', 'edge coloring', 'data structure', 'equivalence classes and partiti', 'exploratory graph', 'sql server mcq', 'pig lati', 'user-defined functions in pig', 'stored functions and procedure', 'visi', 'interconversion of gate', 'classless addressing', 'inference', 'closure properties under boolean operati', 'integration testing', 'comb sort', 'ggplot2 – 2', 'designing subnets – ii', 'bubble sort', 'hamming code', 'introsort', 'evaluating and selecting software architecture', 'standards ii', 'knox with hadoop', 'construction and yield of a parse tree', 'hibernate’s and jpa’s contextual sessi', 'stack reversal using recursi', 'wireless security', 'message authentication codes (macs)', 'isomorphism in graph', 'storage engine configurati', 'monitoring for mongodb', 'overview of r – 1', 'bash', 'replication processes-2', 'finite automata with epsilon transiti', 'quickbook', 'base conversi', 'introduction to mongodb', 'security and mongodb api interface', 'cfl- closure propertie', 'algorithm', 'logarithmic serie', 'running multiple server', 'bellman-ford algorithm', 'permutation sort', 'mongodb enterprise – 2', 'symmetric cipher models and number theory', 'pipeline and sharded collecti', 'google-analytic', 'linear search iterative', 'equivalence of one-tape and multitape tm’', 'read and write semantic', 'java programming language', 'power of a number using recursion in logn time', 'destructors in cla', 'setting up replication server', 'performing multiple – table retrievals with joi', 'cyber-security', 'transpositi', 'maximum sum rectangle in a 2d matrix', 'hiveql-1', 'pseudorandom number generator', 'adobe-in-desig', 'declaring bea', 'control system', 'writing clients that include ssl support', 'types of matrice', 'unix mcq', 'pipeline optimizati', 'mysql datatypes – 5', 'nosql database', 'learn java tutorial', 'deterministic finite automata-introduction and definiti', 'comment syntax', 'least common multiple', 'perl dbi overview – 2', 'engineering design analysi', 'string reversal using recursi', 'object-oriented-programming', 'replication processes-1', 'control structures – 2', 'principles of prng – ii', 'overview – ii', 'number theory', 'dfa to regular expressi', 'matrix-chain multiplicati', 'creating products and evolving a product line', 'cyber security mcq', 'hamiltonian path problem', 'obtaining database metadata', 'microsoft-power-bi', 'windows-server', 'cluster deployment', 'backtracking', 'mapreduce type', 'method with parameter', 'dip', 'library sort', 'vertex coloring', 'compari', 'when good statements go bad', 'kerberos authenticati', 'applications-parser', 'reference variables and assignment', 'cardinality of set', 'mysql program', 'sleep sort', 'auditing', 'schema design in hbase', 'access control', 'moore machine', 'c mcq', 'types of questions-1', 'secure hash algorithms (sha) – ii', 'pro-tool', 'learn html tutorial', 'analyze query performance', 'status variable', 'pandas – 2', 'burnside theorem', 'finite-state automati', 'drill with hadoop-2', 'cross product', 'crunch with hadoop-2', 'the where clause', 'data processing operators in pig', 'optimization strategies-1', 'polynomial and modular arithmetic- i', 'sharded cluster maintenance', 'uml class and object diagram', 'logic circuit', 'performing multiple – table retrievals with subquerie', 'googlevi', 'pointers operation – 1', 'bead sort', 'pointcut definiti', 'ensuring conformance to an architecture', 'implementing and injecting beans with scripting language', 'introduction to cassandra', 'pandas – 3', 'caret – 1', 'minimum cut', 'subset', 'adobe-premiere-pr', 'network errors handling', 'mapreduce job-1', 'algebraic laws on set', 'inverse of matrice', 'mysql datatypes – 2', 'the diagonalization language', 'checking and rpairing database table', 'rest-api', 'adobe-illustrator', 'scheduling and locking issue', 'product planning', 'from pda to grammar', 'overview – i', 'vectorized operations-1', 'programming techniques-storage and subroutine', 'matlab', 'chuckwa with hadoop-1', 'loading data efficiently', 'ieee 802.11 wlan – i', 'turing machine and halting', 'using full text searche', 'flight simulation-a case study in architecture for integrability', 'introduction to dplyr – 1', 'data flow', 'accounting', 'pda-acceptance by final state', 'recurrence relati', 'secure hash algorithms (sha) – i', 'network exposure and security', 'algorithm and data structure specificati', 'operator', 'binomial coefficient', 'blowfish algorithm – ii', 'gridfs', 'using the embedded server library', 'likelihood', 'cipher', 'largest and smallest number in an array using recursi', 'data structures & algorithms i mcq', 'architectural styles i', 'interpolation searching algorithm', 'principles of prng – i', 'security for stored programs and view', 'the language of a grammar, inferences and ambiguity', 'uses of epsilon-transiti', 'eight queens problem', 'atbash cipher', 'using indexing', 'mean and variance of random variable', 'replication maintenance', 'nodejs', 'oozie with hadoop-3', 'aws-lambda', 'crud concept', 'operators of regular expressi', 'oozie with hadoop-2', 'secure hash algorithms (sha) – iii', 'exploratory data analysis – 2', 'shortest path', 'conversions among representati', 'reading from web and apis-1', 'sqoop with hadoop-1', 'kadane’s algorithm', 'hdt with hadoop', 'rail fence cipher', 'derangement', 'binary search iterative', 'learn spring tutorial', 'java mcq', 'java programing language', 'scala', 'introduction to regression model', 'search an element in an array using recursion – 1', 'number theory – iii', 'ggplot2 – 1', 'properties-non regular language', 'randomized algorithm', 'graphics devices-1', 'multiple – table deletes and update', 'numpy – 2', 'character set support', 'mysql datatypes – 4', 'using mysql command line tool', 'cloud computing tutorial', 'formatting string method', 'chomsky normal form', 'spring batch and gateway', 'pseudorandom number generators-ii', 'floating and decimal data type', 'node', 'objectid', 'secure connecti', 'quadratic residue and pseudo prime', 'visualizing data – 1', 'mysql identifier syntax and naming rule', 'secure socket layer – ii', 'vectorized operations-2', 'regular languages and d-pda', 'mealy machine-2', 'cassandra with hadoop-1', 'transpose of matrice', 'statistical inference concept'}\n"
          ]
        }
      ],
      "source": [
        "## preprocessing the context datset\n",
        "\n",
        "\n",
        "# Read CSV File for Contexts\n",
        "contexts_df = pd.read_csv(context_dataset)\n",
        "\n",
        "# Create an empty DataFrame to store unique contexts\n",
        "unique_contexts_df = pd.DataFrame(columns=['context'])\n",
        "\n",
        "# Set to keep track of unique contexts\n",
        "unique_contexts_set = set()\n",
        "\n",
        "# Process the contexts and make them unique\n",
        "for context_str in contexts_df['Context']:\n",
        "    if pd.isna(context_str):  # Skip nan values\n",
        "        continue\n",
        "\n",
        "    # Strip whitespaces and convert to lowercase\n",
        "    context = context_str.strip().lower()\n",
        "\n",
        "    if context not in unique_contexts_set:\n",
        "        unique_contexts_set.add(context)\n",
        "        unique_contexts_df = pd.concat([unique_contexts_df, pd.DataFrame({'Context': [context]})], ignore_index=True)\n",
        "\n",
        "# Save the unique context dataset to a new CSV file\n",
        "unique_contexts_df.to_csv(context_dataset, index=False)\n",
        "\n",
        "# Print the count of unique contexts\n",
        "print(\"Total Unique Contexts:\", len(unique_contexts_set))\n",
        "print(unique_contexts_set)"
      ]
    },
    {
      "cell_type": "code",
      "source": [],
      "metadata": {
        "id": "ngYZjEevwFxO"
      },
      "execution_count": null,
      "outputs": []
    },
    {
      "cell_type": "code",
      "execution_count": null,
      "metadata": {
        "colab": {
          "base_uri": "https://localhost:8080/"
        },
        "id": "r4zvoc8ijwtn",
        "outputId": "89560c5f-e0dd-44ef-89e8-425abfd5c869"
      },
      "outputs": [
        {
          "metadata": {
            "tags": null
          },
          "name": "stderr",
          "output_type": "stream",
          "text": [
            "<ipython-input-38-20487e1f05ce>:22: UserWarning: [W008] Evaluating Doc.similarity based on empty vectors.\n",
            "  similarity = context_doc.similarity(skill_doc)\n"
          ]
        },
        {
          "output_type": "stream",
          "name": "stdout",
          "text": [
            "Context: accounting, Matched Skills: 2651\n",
            "Context: adobe-acrobat, Matched Skills: 345\n",
            "Context: adobe-ai, Matched Skills: 1\n",
            "Context: adobe-illustrator, Matched Skills: 423\n",
            "Context: adobe-in-desig, Matched Skills: 542\n",
            "Context: adobe-lightroom, Matched Skills: 416\n",
            "Context: adobe-photoshop, Matched Skills: 356\n",
            "Context: adobe-premiere-pr, Matched Skills: 457\n",
            "Context: adobe-xd, Matched Skills: 420\n",
            "Context: after-effect, Matched Skills: 219\n",
            "Context: agile-methodologie, Matched Skills: 471\n",
            "Context: android, Matched Skills: 39\n",
            "Context: angular, Matched Skills: 16\n",
            "Context: arc-gi, Matched Skills: 174\n",
            "Context: autocad, Matched Skills: 3\n",
            "Context: autodesk-fusion-360, Matched Skills: 618\n",
            "Context: autodesk-maya, Matched Skills: 568\n",
            "Context: aws-lambda, Matched Skills: 467\n",
            "Context: aw, Matched Skills: 1\n",
            "Context: bash, Matched Skills: 4\n",
            "Context: c++, Matched Skills: 139\n",
            "Context: c-(programming-language), Matched Skills: 1049\n",
            "Context: c-sharp, Matched Skills: 167\n",
            "Context: c, Matched Skills: 99\n",
            "Context: cybersecurity, Matched Skills: 264\n",
            "Context: djang, Matched Skills: 0\n",
            "Context: dotnet-framework, Matched Skills: 757\n",
            "Context: dreamweaver, Matched Skills: 1\n",
            "Context: eclipse, Matched Skills: 4\n",
            "Context: final-cut-pr, Matched Skills: 397\n",
            "Context: front-end-development, Matched Skills: 601\n",
            "Context: git, Matched Skills: 12\n",
            "Context: g, Matched Skills: 31\n",
            "Context: google-ad, Matched Skills: 27\n",
            "Context: google-analytic, Matched Skills: 639\n",
            "Context: google-cloud-platform, Matched Skills: 715\n",
            "Context: hadoop, Matched Skills: 7\n",
            "Context: html, Matched Skills: 98\n",
            "Context: imovie, Matched Skills: 0\n",
            "Context: it-operati, Matched Skills: 41\n",
            "Context: java, Matched Skills: 207\n",
            "Context: javascript, Matched Skills: 111\n",
            "Context: jquery, Matched Skills: 134\n",
            "Context: keynote, Matched Skills: 1\n",
            "Context: kotli, Matched Skills: 0\n",
            "Context: linux, Matched Skills: 134\n",
            "Context: logic-pr, Matched Skills: 580\n",
            "Context: machine-learning, Matched Skills: 755\n",
            "Context: matlab, Matched Skills: 10\n",
            "Context: microsoft-acce, Matched Skills: 749\n",
            "Context: microsoft-azure, Matched Skills: 563\n",
            "Context: microsoft-excel, Matched Skills: 704\n",
            "Context: microsoft-outlook, Matched Skills: 700\n",
            "Context: microsoft-power-automate, Matched Skills: 805\n",
            "Context: microsoft-power-bi, Matched Skills: 473\n",
            "Context: microsoft-power-point, Matched Skills: 737\n",
            "Context: microsoft-project, Matched Skills: 825\n",
            "Context: microsoft-word, Matched Skills: 309\n",
            "Context: mongodb, Matched Skills: 5\n",
            "Context: mysql, Matched Skills: 214\n",
            "Context: node, Matched Skills: 12\n",
            "Context: nosql, Matched Skills: 1\n",
            "Context: object-oriented-programming, Matched Skills: 844\n",
            "Context: objective-c, Matched Skills: 307\n",
            "Context: php, Matched Skills: 145\n",
            "Context: pro-tool, Matched Skills: 166\n",
            "Context: pyth, Matched Skills: 0\n",
            "Context: quickbook, Matched Skills: 0\n",
            "Context: r, Matched Skills: 18\n",
            "Context: react, Matched Skills: 3\n",
            "Context: rest-api, Matched Skills: 506\n",
            "Context: revit, Matched Skills: 1\n"
          ]
        }
      ],
      "source": [
        "nlp = spacy.load('en_core_web_lg')\n",
        "\n",
        "# Create a dictionary to store context-skill relationships\n",
        "context_skills_mapping = {}\n",
        "\n",
        "# Iterate over unique contexts and calculate similarity with each skill\n",
        "for context_row in unique_contexts_df.itertuples():\n",
        "    context_name = context_row.Context\n",
        "    context_text = context_row.Context.lower()  # Adjust the column name to match your DataFrame\n",
        "\n",
        "    context_skills = []\n",
        "    num_matched_skills = 0  # Counter for matched skills in each iteration\n",
        "\n",
        "    # Tokenize and embed context text\n",
        "    context_doc = nlp(context_text)\n",
        "\n",
        "    for skill in unique_skills_set:\n",
        "        # Tokenize and embed skill text\n",
        "        skill_doc = nlp(skill.lower())  # Convert to lowercase for consistency\n",
        "\n",
        "        # Calculate similarity between context and skill embeddings\n",
        "        similarity = context_doc.similarity(skill_doc)\n",
        "\n",
        "        # Define a threshold for similarity\n",
        "        threshold = 0.7\n",
        "\n",
        "        # If similarity is above the threshold, consider the skill related to the context\n",
        "        if similarity > threshold:\n",
        "            context_skills.append(skill)\n",
        "            num_matched_skills += 1\n",
        "\n",
        "    context_skills_mapping[context_name] = context_skills\n",
        "\n",
        "    print(f\"Context: {context_name}, Matched Skills: {num_matched_skills}\")\n",
        "\n",
        "# Example of how to access skills related to a specific context\n",
        "context_name = \"context1\"\n",
        "related_skills = context_skills_mapping.get(context_name, [])\n",
        "print(f\"Skills related to {context_name}: {related_skills}\")\n"
      ]
    },
    {
      "cell_type": "code",
      "execution_count": null,
      "metadata": {
        "id": "GKiJiXK8jwwS"
      },
      "outputs": [],
      "source": [
        "# Print the first few context-skill relationships for verification\n",
        "num_contexts_to_print = 5  # Adjust as needed\n",
        "\n",
        "for context_name, related_skills in list(context_skills_mapping.items())[:num_contexts_to_print]:\n",
        "    print(f\"Context: {context_name}\")\n",
        "    print(f\"Related Skills: {related_skills}\")\n",
        "    print(\"------\")\n"
      ]
    },
    {
      "cell_type": "code",
      "execution_count": null,
      "metadata": {
        "colab": {
          "background_save": true
        },
        "id": "N7ad0Gc1jwyb"
      },
      "outputs": [],
      "source": []
    },
    {
      "cell_type": "code",
      "execution_count": null,
      "metadata": {
        "colab": {
          "background_save": true
        },
        "id": "W1xTl47Kjw-F"
      },
      "outputs": [],
      "source": []
    },
    {
      "cell_type": "code",
      "execution_count": null,
      "metadata": {
        "colab": {
          "background_save": true
        },
        "id": "dp-MhkoRjxB4"
      },
      "outputs": [],
      "source": []
    },
    {
      "cell_type": "code",
      "execution_count": null,
      "metadata": {
        "colab": {
          "background_save": true
        },
        "id": "e_1C9GwTjxFG"
      },
      "outputs": [],
      "source": []
    },
    {
      "cell_type": "code",
      "execution_count": null,
      "metadata": {
        "colab": {
          "background_save": true
        },
        "id": "3o_Y9ExAjxId"
      },
      "outputs": [],
      "source": []
    },
    {
      "cell_type": "code",
      "execution_count": null,
      "metadata": {
        "colab": {
          "background_save": true
        },
        "id": "BOkQX2FRjxLO"
      },
      "outputs": [],
      "source": []
    },
    {
      "cell_type": "code",
      "execution_count": null,
      "metadata": {
        "colab": {
          "background_save": true
        },
        "id": "j4h_Rtp6jxOx"
      },
      "outputs": [],
      "source": []
    },
    {
      "cell_type": "code",
      "execution_count": null,
      "metadata": {
        "colab": {
          "background_save": true
        },
        "id": "--CexrPUjxR0"
      },
      "outputs": [],
      "source": []
    },
    {
      "cell_type": "code",
      "execution_count": null,
      "metadata": {
        "colab": {
          "background_save": true
        },
        "id": "w3qEQ0hVjxU0"
      },
      "outputs": [],
      "source": []
    },
    {
      "cell_type": "code",
      "execution_count": null,
      "metadata": {
        "colab": {
          "background_save": true
        },
        "id": "2rFoS2iPjxXl"
      },
      "outputs": [],
      "source": []
    }
  ],
  "metadata": {
    "colab": {
      "provenance": []
    },
    "kernelspec": {
      "display_name": "Python 3",
      "name": "python3"
    },
    "language_info": {
      "name": "python"
    }
  },
  "nbformat": 4,
  "nbformat_minor": 0
}